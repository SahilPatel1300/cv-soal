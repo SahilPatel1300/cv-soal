{
 "cells": [
  {
   "cell_type": "markdown",
   "metadata": {},
   "source": [
    "## Get Dataset"
   ]
  },
  {
   "cell_type": "code",
   "execution_count": 30,
   "metadata": {},
   "outputs": [
    {
     "name": "stdout",
     "output_type": "stream",
     "text": [
      "The autoreload extension is already loaded. To reload it, use:\n",
      "  %reload_ext autoreload\n"
     ]
    }
   ],
   "source": [
    "%matplotlib inline\n",
    "%load_ext autoreload\n",
    "%autoreload 2\n"
   ]
  },
  {
   "cell_type": "markdown",
   "metadata": {},
   "source": [
    "### Data Directory Analysis"
   ]
  },
  {
   "cell_type": "code",
   "execution_count": 31,
   "metadata": {},
   "outputs": [
    {
     "name": "stdout",
     "output_type": "stream",
     "text": [
      "Category: camera_poses_\n",
      "  Number of files: 17\n",
      "  Number range: 0 to 16\n",
      "Category: hand_poses_\n",
      "  Number of files: 17\n",
      "  Number range: 0 to 16\n",
      "Category: depth_ims_tf_table_\n",
      "  Number of files: 17\n",
      "  Number range: 0 to 16\n",
      "Category: labels_\n",
      "  Number of files: 17\n",
      "  Number range: 0 to 16\n",
      "Category: traj_ids_\n",
      "  Number of files: 17\n",
      "  Number range: 0 to 16\n",
      "Category: grasp_metrics_\n",
      "  Number of files: 17\n",
      "  Number range: 0 to 16\n",
      "Category: camera_intrs_\n",
      "  Number of files: 17\n",
      "  Number range: 0 to 16\n",
      "Category: grasped_obj_keys_\n",
      "  Number of files: 17\n",
      "  Number range: 0 to 16\n",
      "Category: grasp_collision_metrics_\n",
      "  Number of files: 17\n",
      "  Number range: 0 to 16\n",
      "Category: pile_ids_\n",
      "  Number of files: 17\n",
      "  Number range: 0 to 16\n",
      "\n",
      "Inspecting one file per category:\n",
      "\n",
      "Sample file for category 'camera_poses_': camera_poses_00014.npz\n",
      "  Key: arr_0, Shape: (1000, 7)\n",
      "\n",
      "Sample file for category 'hand_poses_': hand_poses_00012.npz\n",
      "  Key: arr_0, Shape: (1000, 6)\n",
      "\n",
      "Sample file for category 'depth_ims_tf_table_': depth_ims_tf_table_00016.npz\n",
      "  Key: arr_0, Shape: (466, 32, 32, 1)\n",
      "\n",
      "Sample file for category 'labels_': labels_00005.npz\n",
      "  Key: arr_0, Shape: (1000,)\n",
      "\n",
      "Sample file for category 'traj_ids_': traj_ids_00006.npz\n",
      "  Key: arr_0, Shape: (1000,)\n",
      "\n",
      "Sample file for category 'grasp_metrics_': grasp_metrics_00009.npz\n",
      "  Key: arr_0, Shape: (1000,)\n",
      "\n",
      "Sample file for category 'camera_intrs_': camera_intrs_00009.npz\n",
      "  Key: arr_0, Shape: (1000, 4)\n",
      "\n",
      "Sample file for category 'grasped_obj_keys_': grasped_obj_keys_00009.npz\n",
      "  Key: arr_0, Shape: (1000,)\n",
      "\n",
      "Sample file for category 'grasp_collision_metrics_': grasp_collision_metrics_00005.npz\n",
      "  Key: arr_0, Shape: (1000,)\n",
      "\n",
      "Sample file for category 'pile_ids_': pile_ids_00008.npz\n",
      "  Key: arr_0, Shape: (1000,)\n"
     ]
    }
   ],
   "source": [
    "# Get File Names and Categories and Data Amount\n",
    "# File exploration\n",
    "import os\n",
    "import re\n",
    "import numpy as np\n",
    "from collections import defaultdict\n",
    "\n",
    "def analyze_directory(path):\n",
    "    file_pattern = re.compile(r\"^(.*?)(\\d{5})\\..+$\")  # captures category and 5-digit number\n",
    "    category_files = defaultdict(list)\n",
    "\n",
    "    for filename in os.listdir(path):\n",
    "        match = file_pattern.match(filename)\n",
    "        if match:\n",
    "            category, number_str = match.groups()\n",
    "            category_files[category].append((filename, int(number_str)))\n",
    "\n",
    "    # Print summary of categories\n",
    "    for category, files in category_files.items():\n",
    "        numbers = [num for _, num in files]\n",
    "        print(f\"Category: {category}\")\n",
    "        print(f\"  Number of files: {len(files)}\")\n",
    "        print(f\"  Number range: {min(numbers)} to {max(numbers)}\")\n",
    "\n",
    "    print(\"\\nInspecting one file per category:\")\n",
    "    for category, files in category_files.items():\n",
    "        sample_file = next(f for f in files if f[0].endswith('.npz'))[0]\n",
    "        filepath = os.path.join(path, sample_file)\n",
    "        print(f\"\\nSample file for category '{category}': {sample_file}\")\n",
    "        try:\n",
    "            data = np.load(filepath)\n",
    "            for key in data:\n",
    "                print(f\"  Key: {key}, Shape: {data[key].shape}\")\n",
    "        except Exception as e:\n",
    "            print(f\"  Could not load file '{sample_file}': {e}\")\n",
    "\n",
    "# Example usage:\n",
    "analyze_directory(\"../dexnet_2.1/dexnet_2.1_eps_10/tensors\")\n"
   ]
  },
  {
   "cell_type": "code",
   "execution_count": 32,
   "metadata": {},
   "outputs": [
    {
     "name": "stdout",
     "output_type": "stream",
     "text": [
      "Selected file number: 00003, sample index: 35\n",
      "\n",
      "camera_poses_00003 -> Example[35]: [-0.052724    0.99808383 -0.03233922  0.00173562 -0.00515223 -0.07879223\n",
      "  0.7452768 ]\n",
      "\n",
      "hand_poses_00003 -> Example[35]: [ 3.6500000e+02  3.0700000e+02  7.3406798e-01  1.9367012e+00\n",
      " -1.8319638e-02  3.6000000e+01]\n",
      "\n"
     ]
    },
    {
     "data": {
      "image/png": "[encoded data removed]",
      "text/plain": [
       "<Figure size 640x480 with 2 Axes>"
      ]
     },
     "metadata": {},
     "output_type": "display_data"
    },
    {
     "name": "stdout",
     "output_type": "stream",
     "text": [
      "labels_00003 -> Example[35]: 1\n",
      "\n",
      "traj_ids_00003 -> Example[35]: 1876\n",
      "\n"
     ]
    },
    {
     "data": {
      "image/png": "[encoded data removed]",
      "text/plain": [
       "<Figure size 640x480 with 1 Axes>"
      ]
     },
     "metadata": {},
     "output_type": "display_data"
    },
    {
     "name": "stdout",
     "output_type": "stream",
     "text": [
      "camera_intrs_00003 -> Example[35]: [526.7417 526.7417 299.     299.    ]\n",
      "\n",
      "grasped_obj_keys_00003 -> Example[35]: b'9737c77d3263062b8ca7a0a01bcd55b6'\n",
      "\n",
      "grasp_collision_metrics_00003 -> Example[35]: 0.0020118835382163525\n",
      "\n",
      "pile_ids_00003 -> Example[35]: 1446\n",
      "\n"
     ]
    }
   ],
   "source": [
    "import os\n",
    "import numpy as np\n",
    "import matplotlib.pyplot as plt\n",
    "import random\n",
    "\n",
    "# Define all categories and their shape descriptions\n",
    "categories = {\n",
    "    'camera_poses_': (1000, 7),\n",
    "    'hand_poses_': (1000, 6),\n",
    "    'depth_ims_tf_table_': (466, 32, 32, 1),\n",
    "    'labels_': (1000,),\n",
    "    'traj_ids_': (1000,),\n",
    "    'grasp_metrics_': (1000,),\n",
    "    'camera_intrs_': (1000, 4),\n",
    "    'grasped_obj_keys_': (1000,),\n",
    "    'grasp_collision_metrics_': (1000,),\n",
    "    'pile_ids_': (1000,)\n",
    "}\n",
    "\n",
    "def load_file(path, category, file_num):\n",
    "    fname = f\"{category}{file_num:05d}.npz\"\n",
    "    fpath = os.path.join(path, fname)\n",
    "    return np.load(fpath)['arr_0']\n",
    "\n",
    "def find_common_file_numbers(path):\n",
    "    files = os.listdir(path)\n",
    "    category_to_nums = {cat: set() for cat in categories}\n",
    "    for fname in files:\n",
    "        for cat in categories:\n",
    "            if fname.startswith(cat) and fname.endswith('.npz'):\n",
    "                try:\n",
    "                    num = int(fname[len(cat):-4])\n",
    "                    category_to_nums[cat].add(num)\n",
    "                except:\n",
    "                    continue\n",
    "    # Find intersection of all sets\n",
    "    common_nums = set.intersection(*category_to_nums.values())\n",
    "    return sorted(list(common_nums))\n",
    "\n",
    "def visualize_random_example(path):\n",
    "    common_files = find_common_file_numbers(path)\n",
    "    if not common_files:\n",
    "        print(\"No common file numbers found across all categories.\")\n",
    "        return\n",
    "\n",
    "    chosen_file_num = random.choice(common_files)\n",
    "\n",
    "    # Load a sample file to determine valid index range\n",
    "    depth_map = load_file(path, 'depth_ims_tf_table_', chosen_file_num)\n",
    "    max_index = depth_map.shape[0]  # Likely 466\n",
    "    chosen_index = random.randint(0, max_index - 1)\n",
    "\n",
    "    print(f\"Selected file number: {chosen_file_num:05d}, sample index: {chosen_index}\\n\")\n",
    "\n",
    "    # Store and print/plot each category\n",
    "    for category in categories:\n",
    "        data = load_file(path, category, chosen_file_num)\n",
    "\n",
    "        if category == 'depth_ims_tf_table_':\n",
    "            image = data[chosen_index].squeeze()\n",
    "            plt.figure()\n",
    "            plt.title(\"Depth Map\")\n",
    "            plt.imshow(image, cmap='gray')\n",
    "            plt.colorbar()\n",
    "            plt.show()\n",
    "\n",
    "        elif category == 'grasp_metrics_':\n",
    "            plt.figure()\n",
    "            plt.title(\"Grasp Metric (value)\")\n",
    "            plt.bar([0], [data[chosen_index]])\n",
    "            plt.xticks([0], ['Grasp Metric'])\n",
    "            plt.ylabel('Score')\n",
    "            plt.show()\n",
    "\n",
    "        else:\n",
    "            print(f\"{category}{chosen_file_num:05d} -> Example[{chosen_index}]: {data[chosen_index]}\\n\")\n",
    "\n",
    "# Example usage\n",
    "# Replace this path with the actual path to your data folder\n",
    "visualize_random_example(\"../dexnet_2.1/dexnet_2.1_eps_10/tensors\")\n"
   ]
  },
  {
   "cell_type": "code",
   "execution_count": 33,
   "metadata": {},
   "outputs": [],
   "source": [
    "# cd scripts/\n",
    "# ./download_dexnet_2.sh\n"
   ]
  },
  {
   "cell_type": "code",
   "execution_count": 34,
   "metadata": {},
   "outputs": [],
   "source": [
    "# dataset['image']['depth_ims']     # Shape: (N, 32, 32)   — depth image\n",
    "# dataset['pose']                   # Shape: (N, 4)        — grasp pose (x, y, z, angle)\n",
    "# dataset['success']                # Shape: (N,)          — binary label: success/failure\n"
   ]
  },
  {
   "cell_type": "code",
   "execution_count": 35,
   "metadata": {},
   "outputs": [
    {
     "data": {
      "text/plain": [
       "'\\nFor tensorfloaw dataset\\n'"
      ]
     },
     "execution_count": 35,
     "metadata": {},
     "output_type": "execute_result"
    }
   ],
   "source": [
    "\"\"\"\n",
    "For tensorfloaw dataset\n",
    "\"\"\"\n",
    "# import torch\n",
    "# from torch.utils.data import Dataset\n",
    "# import h5py\n",
    "# import numpy as np\n",
    "\n",
    "# class DexNetDataset(Dataset):\n",
    "#     def __init__(self, h5_path):\n",
    "#         self.data = h5py.File(h5_path, 'r')\n",
    "#         self.depth_images = self.data['image']['depth_ims'][:]\n",
    "#         self.labels = self.data['grasp_qualities'][:]  # or 'success', depending on file\n",
    "\n",
    "#     def __len__(self):\n",
    "#         return len(self.depth_images)\n",
    "\n",
    "#     def __getitem__(self, idx):\n",
    "#         img = self.depth_images[idx]\n",
    "#         img = np.expand_dims(img, axis=0)  # Convert to (1, H, W) for PyTorch CNN\n",
    "#         label = self.labels[idx]\n",
    "#         return torch.tensor(img, dtype=torch.float32), torch.tensor(label, dtype=torch.float32)\n",
    "\n",
    "\n",
    "# from torch.utils.data import DataLoader\n",
    "\n",
    "# dataset = DexNetDataset('path/to/dexnet_dataset.h5')\n",
    "# dataloader = DataLoader(dataset, batch_size=32, shuffle=True)\n"
   ]
  },
  {
   "cell_type": "code",
   "execution_count": 36,
   "metadata": {},
   "outputs": [],
   "source": [
    "from customize_dataset import DexNetNPZDataset\n",
    "from torch.utils.data import DataLoader\n",
    "\n",
    "dataset = DexNetNPZDataset('../dexnet_2.1/dexnet_2.1_eps_10/tensors/')\n",
    "dataloader = DataLoader(dataset, batch_size=16, shuffle=True, num_workers=4)"
   ]
  },
  {
   "cell_type": "code",
   "execution_count": 37,
   "metadata": {},
   "outputs": [
    {
     "name": "stdout",
     "output_type": "stream",
     "text": [
      "torch.Size([1, 32, 32])\n",
      "torch.Size([6])\n",
      "tensor(0.0021)\n"
     ]
    }
   ],
   "source": [
    "# Load dataset with regression labels and full 6D poses\n",
    "from customize_dataset import DexNetNPZDatasetAll\n",
    "from torch.utils.data import DataLoader\n",
    "dataset = DexNetNPZDatasetAll(tensor_dir='../dexnet_2.1/dexnet_2.1_eps_10/tensors/', use_regression=True, pose_dims=[0, 1, 2, 3, 4, 5])\n",
    "img, pose, label = dataset[0]\n",
    "print(img.shape)    # torch.Size([3, 32, 32])\n",
    "print(pose.shape)   # torch.Size([6])\n",
    "print(label)        # A float (grasp quality)\n",
    "\n",
    "dataloader = DataLoader(dataset, batch_size=16, shuffle=True, num_workers=4)\n"
   ]
  },
  {
   "cell_type": "code",
   "execution_count": 38,
   "metadata": {},
   "outputs": [
    {
     "name": "stdout",
     "output_type": "stream",
     "text": [
      "torch.Size([16, 1, 32, 32]) tensor([[ 3.2600e+02,  3.1700e+02,  7.1825e-01,  2.0408e+00, -8.6305e-03,\n",
      "          3.7000e+01],\n",
      "        [ 3.2000e+02,  2.0000e+02,  6.1844e-01,  2.2721e+00,  4.0066e-02,\n",
      "          4.2000e+01],\n",
      "        [ 3.5200e+02,  2.5600e+02,  6.4457e-01,  5.1078e+00, -4.4143e-02,\n",
      "          4.1000e+01],\n",
      "        [ 2.2100e+02,  2.4700e+02,  6.4439e-01,  2.7675e-01,  2.7444e-02,\n",
      "          4.1000e+01],\n",
      "        [ 2.9800e+02,  2.9300e+02,  7.2989e-01,  6.0726e+00, -4.3800e-02,\n",
      "          3.6000e+01],\n",
      "        [ 2.8300e+02,  2.8500e+02,  7.0940e-01,  5.5311e+00, -3.2160e-02,\n",
      "          3.7000e+01],\n",
      "        [ 2.7300e+02,  2.1400e+02,  7.1211e-01,  5.2950e+00, -9.0588e-03,\n",
      "          3.7000e+01],\n",
      "        [ 2.9000e+02,  1.5200e+02,  7.2777e-01,  4.0705e+00, -4.6189e-02,\n",
      "          3.6000e+01],\n",
      "        [ 2.4400e+02,  3.9100e+02,  6.4443e-01,  3.7851e+00,  4.7185e-02,\n",
      "          4.1000e+01],\n",
      "        [ 2.5900e+02,  3.3400e+02,  6.9647e-01,  5.5637e+00, -1.5067e-02,\n",
      "          3.8000e+01],\n",
      "        [ 3.3200e+02,  2.2100e+02,  6.7304e-01,  1.3238e+00,  2.8935e-02,\n",
      "          3.9000e+01],\n",
      "        [ 3.6400e+02,  4.7100e+02,  6.4411e-01,  3.7233e+00,  4.0102e-03,\n",
      "          4.1000e+01],\n",
      "        [ 3.3800e+02,  3.0200e+02,  6.5940e-01,  3.3367e+00, -3.5807e-02,\n",
      "          4.0000e+01],\n",
      "        [ 3.5700e+02,  2.9200e+02,  6.8211e-01,  4.9684e+00,  2.1610e-03,\n",
      "          3.8000e+01],\n",
      "        [ 2.3000e+02,  2.6300e+02,  6.7339e-01,  1.6086e+00, -3.1760e-02,\n",
      "          3.9000e+01],\n",
      "        [ 3.3500e+02,  3.5200e+02,  6.7293e-01,  4.2478e+00, -3.7925e-02,\n",
      "          3.9000e+01]])\n"
     ]
    }
   ],
   "source": [
    "for i in dataloader:\n",
    "    print(i[0].shape, i[1])\n",
    "    break\n"
   ]
  },
  {
   "cell_type": "code",
   "execution_count": 39,
   "metadata": {},
   "outputs": [
    {
     "data": {
      "text/plain": [
       "torch.Size([16, 1, 32, 32])"
      ]
     },
     "execution_count": 39,
     "metadata": {},
     "output_type": "execute_result"
    }
   ],
   "source": [
    "i[0].shape"
   ]
  },
  {
   "cell_type": "markdown",
   "metadata": {},
   "source": [
    "## Image Model"
   ]
  },
  {
   "cell_type": "code",
   "execution_count": 68,
   "metadata": {},
   "outputs": [],
   "source": [
    "import torch.nn as nn\n",
    "import torch.nn.functional as F\n",
    "\n",
    "class SimpleCNN(nn.Module):\n",
    "    def __init__(self):\n",
    "        super(SimpleCNN, self).__init__()\n",
    "        self.conv1 = nn.Conv2d(1, 16, 3)\n",
    "        self.pool = nn.MaxPool2d(2)\n",
    "        self.conv2 = nn.Conv2d(16, 32, 3)\n",
    "        self.fc1 = nn.Linear(32 * 6 * 6, 64)\n",
    "        self.fc2 = nn.Linear(64, 1)  # Binary classification (grasp success)\n",
    "\n",
    "    def forward(self, x):\n",
    "        x = self.pool(F.relu(self.conv1(x)))  # (B, 16, 15, 15)\n",
    "        x = self.pool(F.relu(self.conv2(x)))  # (B, 32, 6, 6)\n",
    "        x = x.view(-1, 32 * 6 * 6)\n",
    "        x = F.relu(self.fc1(x))\n",
    "        x = torch.sigmoid(self.fc2(x))\n",
    "        return x\n"
   ]
  },
  {
   "cell_type": "code",
   "execution_count": 4,
   "metadata": {},
   "outputs": [],
   "source": [
    "import torch\n",
    "import torch.nn as nn\n",
    "from torchvision.models import resnet50, ResNet50_Weights\n",
    "\n",
    "class ResNetGraspNet(nn.Module):\n",
    "    \"\"\"\n",
    "    A binary classification model for grasp success using ResNet-50 as a backbone.\n",
    "    \"\"\"\n",
    "    def __init__(self, pretrained: bool = True, num_classes: int = 1, dropout_rate: float = 0.2):\n",
    "        super(ResNetGraspNet, self).__init__()\n",
    "        # Load ResNet-50 backbone with optional ImageNet pretrained weights\n",
    "        weights = ResNet50_Weights.IMAGENET1K_V2 if pretrained else None\n",
    "        self.backbone = resnet50(weights=weights)\n",
    "        # Retrieve number of input features to the classifier head\n",
    "        in_features = self.backbone.fc.in_features\n",
    "        # Replace the original classification head\n",
    "        self.backbone.fc = nn.Sequential(\n",
    "            nn.Dropout(dropout_rate, inplace=True),\n",
    "            nn.Linear(in_features, num_classes),\n",
    "            nn.Sigmoid()\n",
    "        )\n",
    "\n",
    "    def forward(self, x: torch.Tensor) -> torch.Tensor:\n",
    "        # Forward pass through ResNet-50 and sigmoid head\n",
    "        return self.backbone(x)"
   ]
  },
  {
   "cell_type": "code",
   "execution_count": 17,
   "metadata": {},
   "outputs": [],
   "source": [
    "import torch\n",
    "import torch.nn as nn\n",
    "from torchvision.models import efficientnet_v2_s, EfficientNet_V2_S_Weights\n",
    "\n",
    "class EfficientNetV2GraspNet(nn.Module):\n",
    "    \"\"\"\n",
    "    A binary classification model for grasp success using EfficientNet-V2-S as a backbone.\n",
    "    \"\"\"\n",
    "    def __init__(self, pretrained: bool = True, num_classes: int = 1, dropout_rate: float = 0.2):\n",
    "        super(EfficientNetV2GraspNet, self).__init__()\n",
    "        # Load EfficientNet-V2-S backbone with optional ImageNet pretrained weights\n",
    "        weights = EfficientNet_V2_S_Weights.IMAGENET1K_V1 if pretrained else None\n",
    "        self.backbone = efficientnet_v2_s(weights=weights)\n",
    "        # Retrieve number of input features to the classifier head\n",
    "        in_features = self.backbone.classifier[1].in_features\n",
    "        # Replace the classifier head for binary grasp success prediction\n",
    "        self.backbone.classifier = nn.Sequential(\n",
    "            nn.Dropout(dropout_rate, inplace=True),\n",
    "            nn.Linear(in_features, num_classes),\n",
    "            nn.Sigmoid()\n",
    "        )\n",
    "\n",
    "    def forward(self, x: torch.Tensor) -> torch.Tensor:\n",
    "        # Forward pass through EfficientNet-V2 and sigmoid head\n",
    "        return self.backbone(x)"
   ]
  },
  {
   "cell_type": "markdown",
   "metadata": {},
   "source": [
    "### Forward Pass and Evaluation Measurements Define"
   ]
  },
  {
   "cell_type": "code",
   "execution_count": 18,
   "metadata": {},
   "outputs": [
    {
     "data": {
      "text/plain": [
       "<torch.utils.data.dataloader.DataLoader at 0x1545c3e50>"
      ]
     },
     "execution_count": 18,
     "metadata": {},
     "output_type": "execute_result"
    }
   ],
   "source": [
    "dataloader"
   ]
  },
  {
   "cell_type": "markdown",
   "metadata": {},
   "source": [
    "### Model Training"
   ]
  },
  {
   "cell_type": "code",
   "execution_count": 19,
   "metadata": {},
   "outputs": [],
   "source": [
    "for i in model.parameters():\n",
    "    print(i.shape)"
   ]
  },
  {
   "cell_type": "code",
   "execution_count": 20,
   "metadata": {},
   "outputs": [
    {
     "name": "stderr",
     "output_type": "stream",
     "text": [
      "Downloading: \"https://download.pytorch.org/models/efficientnet_v2_s-dd5fe13b.pth\" to /Users/xuzhezhi/.cache/torch/hub/checkpoints/efficientnet_v2_s-dd5fe13b.pth\n",
      "100%|██████████| 82.7M/82.7M [00:05<00:00, 14.8MB/s]\n",
      "  0%|          | 0/1030 [00:00<?, ?it/s]\n"
     ]
    },
    {
     "ename": "KeyboardInterrupt",
     "evalue": "",
     "output_type": "error",
     "traceback": [
      "\u001b[0;31m---------------------------------------------------------------------------\u001b[0m",
      "\u001b[0;31mKeyboardInterrupt\u001b[0m                         Traceback (most recent call last)",
      "Cell \u001b[0;32mIn[20], line 8\u001b[0m\n\u001b[1;32m      6\u001b[0m \u001b[38;5;28;01mfrom\u001b[39;00m \u001b[38;5;21;01mtqdm\u001b[39;00m \u001b[38;5;28;01mimport\u001b[39;00m tqdm\n\u001b[1;32m      7\u001b[0m \u001b[38;5;28;01mfor\u001b[39;00m epoch \u001b[38;5;129;01min\u001b[39;00m \u001b[38;5;28mrange\u001b[39m(\u001b[38;5;241m3\u001b[39m):\n\u001b[0;32m----> 8\u001b[0m     \u001b[38;5;28;01mfor\u001b[39;00m imgs, labels \u001b[38;5;129;01min\u001b[39;00m tqdm(dataloader):\n\u001b[1;32m      9\u001b[0m         outputs \u001b[38;5;241m=\u001b[39m model(imgs)\n\u001b[1;32m     10\u001b[0m         loss \u001b[38;5;241m=\u001b[39m criterion(outputs\u001b[38;5;241m.\u001b[39msqueeze(), labels)\n",
      "File \u001b[0;32m~/anaconda3/lib/python3.11/site-packages/tqdm/std.py:1178\u001b[0m, in \u001b[0;36mtqdm.__iter__\u001b[0;34m(self)\u001b[0m\n\u001b[1;32m   1175\u001b[0m time \u001b[38;5;241m=\u001b[39m \u001b[38;5;28mself\u001b[39m\u001b[38;5;241m.\u001b[39m_time\n\u001b[1;32m   1177\u001b[0m \u001b[38;5;28;01mtry\u001b[39;00m:\n\u001b[0;32m-> 1178\u001b[0m     \u001b[38;5;28;01mfor\u001b[39;00m obj \u001b[38;5;129;01min\u001b[39;00m iterable:\n\u001b[1;32m   1179\u001b[0m         \u001b[38;5;28;01myield\u001b[39;00m obj\n\u001b[1;32m   1180\u001b[0m         \u001b[38;5;66;03m# Update and possibly print the progressbar.\u001b[39;00m\n\u001b[1;32m   1181\u001b[0m         \u001b[38;5;66;03m# Note: does not call self.update(1) for speed optimisation.\u001b[39;00m\n",
      "File \u001b[0;32m~/anaconda3/lib/python3.11/site-packages/torch/utils/data/dataloader.py:438\u001b[0m, in \u001b[0;36mDataLoader.__iter__\u001b[0;34m(self)\u001b[0m\n\u001b[1;32m    436\u001b[0m     \u001b[38;5;28;01mreturn\u001b[39;00m \u001b[38;5;28mself\u001b[39m\u001b[38;5;241m.\u001b[39m_iterator\n\u001b[1;32m    437\u001b[0m \u001b[38;5;28;01melse\u001b[39;00m:\n\u001b[0;32m--> 438\u001b[0m     \u001b[38;5;28;01mreturn\u001b[39;00m \u001b[38;5;28mself\u001b[39m\u001b[38;5;241m.\u001b[39m_get_iterator()\n",
      "File \u001b[0;32m~/anaconda3/lib/python3.11/site-packages/torch/utils/data/dataloader.py:386\u001b[0m, in \u001b[0;36mDataLoader._get_iterator\u001b[0;34m(self)\u001b[0m\n\u001b[1;32m    384\u001b[0m \u001b[38;5;28;01melse\u001b[39;00m:\n\u001b[1;32m    385\u001b[0m     \u001b[38;5;28mself\u001b[39m\u001b[38;5;241m.\u001b[39mcheck_worker_number_rationality()\n\u001b[0;32m--> 386\u001b[0m     \u001b[38;5;28;01mreturn\u001b[39;00m _MultiProcessingDataLoaderIter(\u001b[38;5;28mself\u001b[39m)\n",
      "File \u001b[0;32m~/anaconda3/lib/python3.11/site-packages/torch/utils/data/dataloader.py:1039\u001b[0m, in \u001b[0;36m_MultiProcessingDataLoaderIter.__init__\u001b[0;34m(self, loader)\u001b[0m\n\u001b[1;32m   1032\u001b[0m w\u001b[38;5;241m.\u001b[39mdaemon \u001b[38;5;241m=\u001b[39m \u001b[38;5;28;01mTrue\u001b[39;00m\n\u001b[1;32m   1033\u001b[0m \u001b[38;5;66;03m# NB: Process.start() actually take some time as it needs to\u001b[39;00m\n\u001b[1;32m   1034\u001b[0m \u001b[38;5;66;03m#     start a process and pass the arguments over via a pipe.\u001b[39;00m\n\u001b[1;32m   1035\u001b[0m \u001b[38;5;66;03m#     Therefore, we only add a worker to self._workers list after\u001b[39;00m\n\u001b[1;32m   1036\u001b[0m \u001b[38;5;66;03m#     it started, so that we do not call .join() if program dies\u001b[39;00m\n\u001b[1;32m   1037\u001b[0m \u001b[38;5;66;03m#     before it starts, and __del__ tries to join but will get:\u001b[39;00m\n\u001b[1;32m   1038\u001b[0m \u001b[38;5;66;03m#     AssertionError: can only join a started process.\u001b[39;00m\n\u001b[0;32m-> 1039\u001b[0m w\u001b[38;5;241m.\u001b[39mstart()\n\u001b[1;32m   1040\u001b[0m \u001b[38;5;28mself\u001b[39m\u001b[38;5;241m.\u001b[39m_index_queues\u001b[38;5;241m.\u001b[39mappend(index_queue)\n\u001b[1;32m   1041\u001b[0m \u001b[38;5;28mself\u001b[39m\u001b[38;5;241m.\u001b[39m_workers\u001b[38;5;241m.\u001b[39mappend(w)\n",
      "File \u001b[0;32m~/anaconda3/lib/python3.11/multiprocessing/process.py:121\u001b[0m, in \u001b[0;36mBaseProcess.start\u001b[0;34m(self)\u001b[0m\n\u001b[1;32m    118\u001b[0m \u001b[38;5;28;01massert\u001b[39;00m \u001b[38;5;129;01mnot\u001b[39;00m _current_process\u001b[38;5;241m.\u001b[39m_config\u001b[38;5;241m.\u001b[39mget(\u001b[38;5;124m'\u001b[39m\u001b[38;5;124mdaemon\u001b[39m\u001b[38;5;124m'\u001b[39m), \\\n\u001b[1;32m    119\u001b[0m        \u001b[38;5;124m'\u001b[39m\u001b[38;5;124mdaemonic processes are not allowed to have children\u001b[39m\u001b[38;5;124m'\u001b[39m\n\u001b[1;32m    120\u001b[0m _cleanup()\n\u001b[0;32m--> 121\u001b[0m \u001b[38;5;28mself\u001b[39m\u001b[38;5;241m.\u001b[39m_popen \u001b[38;5;241m=\u001b[39m \u001b[38;5;28mself\u001b[39m\u001b[38;5;241m.\u001b[39m_Popen(\u001b[38;5;28mself\u001b[39m)\n\u001b[1;32m    122\u001b[0m \u001b[38;5;28mself\u001b[39m\u001b[38;5;241m.\u001b[39m_sentinel \u001b[38;5;241m=\u001b[39m \u001b[38;5;28mself\u001b[39m\u001b[38;5;241m.\u001b[39m_popen\u001b[38;5;241m.\u001b[39msentinel\n\u001b[1;32m    123\u001b[0m \u001b[38;5;66;03m# Avoid a refcycle if the target function holds an indirect\u001b[39;00m\n\u001b[1;32m    124\u001b[0m \u001b[38;5;66;03m# reference to the process object (see bpo-30775)\u001b[39;00m\n",
      "File \u001b[0;32m~/anaconda3/lib/python3.11/multiprocessing/context.py:224\u001b[0m, in \u001b[0;36mProcess._Popen\u001b[0;34m(process_obj)\u001b[0m\n\u001b[1;32m    222\u001b[0m \u001b[38;5;129m@staticmethod\u001b[39m\n\u001b[1;32m    223\u001b[0m \u001b[38;5;28;01mdef\u001b[39;00m \u001b[38;5;21m_Popen\u001b[39m(process_obj):\n\u001b[0;32m--> 224\u001b[0m     \u001b[38;5;28;01mreturn\u001b[39;00m _default_context\u001b[38;5;241m.\u001b[39mget_context()\u001b[38;5;241m.\u001b[39mProcess\u001b[38;5;241m.\u001b[39m_Popen(process_obj)\n",
      "File \u001b[0;32m~/anaconda3/lib/python3.11/multiprocessing/context.py:288\u001b[0m, in \u001b[0;36mSpawnProcess._Popen\u001b[0;34m(process_obj)\u001b[0m\n\u001b[1;32m    285\u001b[0m \u001b[38;5;129m@staticmethod\u001b[39m\n\u001b[1;32m    286\u001b[0m \u001b[38;5;28;01mdef\u001b[39;00m \u001b[38;5;21m_Popen\u001b[39m(process_obj):\n\u001b[1;32m    287\u001b[0m     \u001b[38;5;28;01mfrom\u001b[39;00m \u001b[38;5;21;01m.\u001b[39;00m\u001b[38;5;21;01mpopen_spawn_posix\u001b[39;00m \u001b[38;5;28;01mimport\u001b[39;00m Popen\n\u001b[0;32m--> 288\u001b[0m     \u001b[38;5;28;01mreturn\u001b[39;00m Popen(process_obj)\n",
      "File \u001b[0;32m~/anaconda3/lib/python3.11/multiprocessing/popen_spawn_posix.py:32\u001b[0m, in \u001b[0;36mPopen.__init__\u001b[0;34m(self, process_obj)\u001b[0m\n\u001b[1;32m     30\u001b[0m \u001b[38;5;28;01mdef\u001b[39;00m \u001b[38;5;21m__init__\u001b[39m(\u001b[38;5;28mself\u001b[39m, process_obj):\n\u001b[1;32m     31\u001b[0m     \u001b[38;5;28mself\u001b[39m\u001b[38;5;241m.\u001b[39m_fds \u001b[38;5;241m=\u001b[39m []\n\u001b[0;32m---> 32\u001b[0m     \u001b[38;5;28msuper\u001b[39m()\u001b[38;5;241m.\u001b[39m\u001b[38;5;21m__init__\u001b[39m(process_obj)\n",
      "File \u001b[0;32m~/anaconda3/lib/python3.11/multiprocessing/popen_fork.py:19\u001b[0m, in \u001b[0;36mPopen.__init__\u001b[0;34m(self, process_obj)\u001b[0m\n\u001b[1;32m     17\u001b[0m \u001b[38;5;28mself\u001b[39m\u001b[38;5;241m.\u001b[39mreturncode \u001b[38;5;241m=\u001b[39m \u001b[38;5;28;01mNone\u001b[39;00m\n\u001b[1;32m     18\u001b[0m \u001b[38;5;28mself\u001b[39m\u001b[38;5;241m.\u001b[39mfinalizer \u001b[38;5;241m=\u001b[39m \u001b[38;5;28;01mNone\u001b[39;00m\n\u001b[0;32m---> 19\u001b[0m \u001b[38;5;28mself\u001b[39m\u001b[38;5;241m.\u001b[39m_launch(process_obj)\n",
      "File \u001b[0;32m~/anaconda3/lib/python3.11/multiprocessing/popen_spawn_posix.py:62\u001b[0m, in \u001b[0;36mPopen._launch\u001b[0;34m(self, process_obj)\u001b[0m\n\u001b[1;32m     60\u001b[0m     \u001b[38;5;28mself\u001b[39m\u001b[38;5;241m.\u001b[39msentinel \u001b[38;5;241m=\u001b[39m parent_r\n\u001b[1;32m     61\u001b[0m     \u001b[38;5;28;01mwith\u001b[39;00m \u001b[38;5;28mopen\u001b[39m(parent_w, \u001b[38;5;124m'\u001b[39m\u001b[38;5;124mwb\u001b[39m\u001b[38;5;124m'\u001b[39m, closefd\u001b[38;5;241m=\u001b[39m\u001b[38;5;28;01mFalse\u001b[39;00m) \u001b[38;5;28;01mas\u001b[39;00m f:\n\u001b[0;32m---> 62\u001b[0m         f\u001b[38;5;241m.\u001b[39mwrite(fp\u001b[38;5;241m.\u001b[39mgetbuffer())\n\u001b[1;32m     63\u001b[0m \u001b[38;5;28;01mfinally\u001b[39;00m:\n\u001b[1;32m     64\u001b[0m     fds_to_close \u001b[38;5;241m=\u001b[39m []\n",
      "\u001b[0;31mKeyboardInterrupt\u001b[0m: "
     ]
    }
   ],
   "source": [
    "# model = SimpleCNN()\n",
    "model = EfficientNetV2GraspNet()\n",
    "criterion = nn.BCELoss()\n",
    "optimizer = torch.optim.Adam(model.parameters(), lr=1e-3)\n",
    "\n",
    "from tqdm import tqdm\n",
    "for epoch in range(3):\n",
    "    for imgs, labels in tqdm(dataloader):\n",
    "        outputs = model(imgs)\n",
    "        loss = criterion(outputs.squeeze(), labels)\n",
    "        optimizer.zero_grad()\n",
    "        loss.backward()\n",
    "        optimizer.step()\n",
    "        break\n"
   ]
  },
  {
   "cell_type": "code",
   "execution_count": 21,
   "metadata": {},
   "outputs": [
    {
     "name": "stderr",
     "output_type": "stream",
     "text": [
      "Epoch 1/3:   0%|          | 0/1030 [00:31<?, ?it/s]\n"
     ]
    },
    {
     "name": "stdout",
     "output_type": "stream",
     "text": [
      "Epoch [1/3] — Loss: 0.6727 — Accuracy: 0.5000\n"
     ]
    },
    {
     "name": "stderr",
     "output_type": "stream",
     "text": [
      "Epoch 2/3:   0%|          | 0/1030 [00:39<?, ?it/s]\n"
     ]
    },
    {
     "name": "stdout",
     "output_type": "stream",
     "text": [
      "Epoch [2/3] — Loss: 0.8261 — Accuracy: 0.5000\n"
     ]
    },
    {
     "name": "stderr",
     "output_type": "stream",
     "text": [
      "Epoch 3/3:   0%|          | 0/1030 [00:42<?, ?it/s]"
     ]
    },
    {
     "name": "stdout",
     "output_type": "stream",
     "text": [
      "Epoch [3/3] — Loss: 0.7155 — Accuracy: 0.6250\n"
     ]
    },
    {
     "name": "stderr",
     "output_type": "stream",
     "text": [
      "\n"
     ]
    }
   ],
   "source": [
    "import torch\n",
    "from tqdm import tqdm\n",
    "\n",
    "num_epochs = 3\n",
    "loss_history = []\n",
    "\n",
    "for epoch in range(num_epochs):\n",
    "    model.train()\n",
    "    running_loss = 0.0\n",
    "    correct = 0\n",
    "    total = 0\n",
    "\n",
    "    progress_bar = tqdm(dataloader, desc=f\"Epoch {epoch+1}/{num_epochs}\")\n",
    "    \n",
    "    for imgs, labels in progress_bar:\n",
    "        outputs = model(imgs).squeeze()\n",
    "        loss = criterion(outputs, labels)\n",
    "\n",
    "        optimizer.zero_grad()\n",
    "        loss.backward()\n",
    "        optimizer.step()\n",
    "\n",
    "        # Accumulate metrics\n",
    "        running_loss += loss.item() * imgs.size(0)\n",
    "\n",
    "        # Optional: compute accuracy\n",
    "        predicted = (outputs >= 0.5).float()\n",
    "        correct += (predicted == labels).sum().item()\n",
    "        total += labels.size(0)\n",
    "        break\n",
    "\n",
    "    epoch_loss = running_loss / total\n",
    "    accuracy = correct / total\n",
    "\n",
    "    loss_history.append(epoch_loss)\n",
    "\n",
    "    print(f\"Epoch [{epoch+1}/{num_epochs}] — Loss: {epoch_loss:.4f} — Accuracy: {accuracy:.4f}\")\n"
   ]
  },
  {
   "cell_type": "code",
   "execution_count": 1,
   "metadata": {},
   "outputs": [
    {
     "ename": "NameError",
     "evalue": "name 'loss_history' is not defined",
     "output_type": "error",
     "traceback": [
      "\u001b[0;31m---------------------------------------------------------------------------\u001b[0m",
      "\u001b[0;31mNameError\u001b[0m                                 Traceback (most recent call last)",
      "Cell \u001b[0;32mIn[1], line 3\u001b[0m\n\u001b[1;32m      1\u001b[0m \u001b[38;5;28;01mimport\u001b[39;00m \u001b[38;5;21;01mmatplotlib\u001b[39;00m\u001b[38;5;21;01m.\u001b[39;00m\u001b[38;5;21;01mpyplot\u001b[39;00m \u001b[38;5;28;01mas\u001b[39;00m \u001b[38;5;21;01mplt\u001b[39;00m\n\u001b[0;32m----> 3\u001b[0m plt\u001b[38;5;241m.\u001b[39mplot(loss_history, marker\u001b[38;5;241m=\u001b[39m\u001b[38;5;124m'\u001b[39m\u001b[38;5;124mo\u001b[39m\u001b[38;5;124m'\u001b[39m)\n\u001b[1;32m      4\u001b[0m plt\u001b[38;5;241m.\u001b[39mxlabel(\u001b[38;5;124m'\u001b[39m\u001b[38;5;124mEpoch\u001b[39m\u001b[38;5;124m'\u001b[39m)\n\u001b[1;32m      5\u001b[0m plt\u001b[38;5;241m.\u001b[39mylabel(\u001b[38;5;124m'\u001b[39m\u001b[38;5;124mLoss\u001b[39m\u001b[38;5;124m'\u001b[39m)\n",
      "\u001b[0;31mNameError\u001b[0m: name 'loss_history' is not defined"
     ]
    }
   ],
   "source": [
    "import matplotlib.pyplot as plt\n",
    "\n",
    "plt.plot(loss_history, marker='o')\n",
    "plt.xlabel('Epoch')\n",
    "plt.ylabel('Loss')\n",
    "plt.title('Training Loss per Epoch')\n",
    "plt.grid(True)\n",
    "plt.show()\n"
   ]
  },
  {
   "cell_type": "markdown",
   "metadata": {},
   "source": [
    "## Image + Poses Model"
   ]
  },
  {
   "cell_type": "code",
   "execution_count": 40,
   "metadata": {},
   "outputs": [],
   "source": [
    "import torch\n",
    "import torch.nn as nn\n",
    "import torch.nn.functional as F\n",
    "\n",
    "class SimpleGQCNN(nn.Module):\n",
    "    def __init__(self, pose_dim=4, output_type='binary'):\n",
    "        \"\"\"\n",
    "        pose_dim: number of dimensions in the pose vector (e.g., x, y, z, theta)\n",
    "        output_type: 'binary' or 'regression'\n",
    "        \"\"\"\n",
    "        super(SimpleGQCNN, self).__init__()\n",
    "        self.output_type = output_type\n",
    "\n",
    "        # Image stream\n",
    "        self.conv1 = nn.Conv2d(1, 16, 3)           # -> (B, 16, 30, 30)\n",
    "        self.pool = nn.MaxPool2d(2, 2)             # -> (B, 16, 15, 15)\n",
    "        self.conv2 = nn.Conv2d(16, 32, 3)          # -> (B, 32, 13, 13) -> pool -> (B, 32, 6, 6)\n",
    "        self.im_fc = nn.Linear(32 * 6 * 6, 64)\n",
    "\n",
    "        # Pose stream\n",
    "        self.pose_fc1 = nn.Linear(pose_dim, 32)\n",
    "        self.pose_fc2 = nn.Linear(32, 32)\n",
    "\n",
    "        # Merge stream\n",
    "        self.merge_fc1 = nn.Linear(64 + 32, 64)\n",
    "        self.merge_fc2 = nn.Linear(64, 1)  # Single output for binary or regression\n",
    "\n",
    "    def forward(self, image, pose):\n",
    "        # Image stream\n",
    "        x = self.pool(F.relu(self.conv1(image)))  # -> (B, 16, 15, 15)\n",
    "        x = self.pool(F.relu(self.conv2(x)))      # -> (B, 32, 6, 6)\n",
    "        x = x.view(x.size(0), -1)                 # Flatten\n",
    "        x = F.relu(self.im_fc(x))                 # -> (B, 64)\n",
    "\n",
    "        # Pose stream\n",
    "        p = F.relu(self.pose_fc1(pose))           # -> (B, 32)\n",
    "        p = F.relu(self.pose_fc2(p))              # -> (B, 32)\n",
    "\n",
    "        # Merge\n",
    "        combined = torch.cat((x, p), dim=1)       # -> (B, 96)\n",
    "        out = F.relu(self.merge_fc1(combined))    # -> (B, 64)\n",
    "        out = self.merge_fc2(out)                 # -> (B, 1)\n",
    "\n",
    "        if self.output_type == 'binary':\n",
    "            out = torch.sigmoid(out)              # Binary classification\n",
    "        return out\n"
   ]
  },
  {
   "cell_type": "code",
   "execution_count": 47,
   "metadata": {},
   "outputs": [],
   "source": [
    "import torch\n",
    "import torch.nn as nn\n",
    "import torch.nn.functional as F\n",
    "\n",
    "class SimpleGQCNN(nn.Module):\n",
    "    def __init__(self, pose_dim=4, output_type='binary'):\n",
    "        \"\"\"\n",
    "        pose_dim: number of dimensions in the pose vector (e.g., x, y, z, theta)\n",
    "        output_type: 'binary' or 'regression'\n",
    "        \"\"\"\n",
    "        super(SimpleGQCNN, self).__init__()\n",
    "        self.output_type = output_type\n",
    "\n",
    "        # Image stream\n",
    "        self.conv1 = nn.Conv2d(1, 16, 3)           # → (B, 16, 30, 30)\n",
    "        self.pool = nn.MaxPool2d(2, 2)             # → (B, 16, 15, 15)\n",
    "        self.conv2 = nn.Conv2d(16, 32, 3)          # → (B, 32, 13, 13) → pool → (B, 32, 6, 6)\n",
    "        self.im_fc = nn.Linear(32 * 6 * 6, 64)     # → (B, 64)\n",
    "\n",
    "        # Pose stream\n",
    "        self.pose_fc1 = nn.Linear(pose_dim, 64)\n",
    "        self.pose_fc2 = nn.Linear(64, 64)\n",
    "\n",
    "        # Merge stream after elementwise multiplication\n",
    "        self.merge_fc1 = nn.Linear(64, 32)\n",
    "        self.merge_fc2 = nn.Linear(32, 1)\n",
    "\n",
    "    def forward(self, image, pose):\n",
    "        # Image stream\n",
    "        x = self.pool(F.relu(self.conv1(image)))   # (B, 16, 15, 15)\n",
    "        x = self.pool(F.relu(self.conv2(x)))       # (B, 32, 6, 6)\n",
    "        x = x.view(x.size(0), -1)                  # Flatten\n",
    "        x = F.relu(self.im_fc(x))                  # (B, 64)\n",
    "\n",
    "        # Pose stream\n",
    "        p = F.relu(self.pose_fc1(pose))            # (B, 64)\n",
    "        p = F.relu(self.pose_fc2(p))               # (B, 64)\n",
    "\n",
    "        # Element-wise multiplication\n",
    "        combined = x * p                           # (B, 64)\n",
    "\n",
    "        # Final layers\n",
    "        out = F.relu(self.merge_fc1(combined))     # (B, 32)\n",
    "        out = self.merge_fc2(out)                  # (B, 1)\n",
    "\n",
    "        if self.output_type == 'binary':\n",
    "            out = torch.sigmoid(out)               # Binary prediction\n",
    "        return out\n"
   ]
  },
  {
   "cell_type": "code",
   "execution_count": 48,
   "metadata": {},
   "outputs": [
    {
     "name": "stdout",
     "output_type": "stream",
     "text": [
      "torch.Size([8, 1])\n"
     ]
    }
   ],
   "source": [
    "model = SimpleGQCNN(pose_dim=4, output_type='regression')  # or 'binary'\n",
    "\n",
    "image = torch.randn(8, 1, 32, 32)  # Batch of 8 grayscale images\n",
    "pose = torch.randn(8, 4)          # Corresponding batch of 4D poses\n",
    "\n",
    "output = model(image, pose)\n",
    "print(output.shape)  # torch.Size([8, 1])\n"
   ]
  },
  {
   "cell_type": "code",
   "execution_count": 49,
   "metadata": {},
   "outputs": [],
   "source": [
    "import torch.optim as optim\n",
    "from tqdm import tqdm\n",
    "# Set config\n",
    "tensor_dir = '../dexnet_2.1/dexnet_2.1_eps_10/tensors/'  # replace with actual path\n",
    "batch_size = 32\n",
    "use_regression = False  # or True\n",
    "pose_dims = [2]          # or full [0, 1, 2, 3, 4, 5]\n",
    "\n",
    "# Create dataset and dataloader\n",
    "dataset = DexNetNPZDatasetAll(tensor_dir=tensor_dir, use_regression=use_regression, pose_dims=pose_dims)\n",
    "dataloader = DataLoader(dataset, batch_size=batch_size, shuffle=True)\n",
    "\n",
    "model = SimpleGQCNN(pose_dim=len(pose_dims), output_type='regression' if use_regression else 'binary')\n",
    "device = torch.device('cuda' if torch.cuda.is_available() else 'cpu')\n",
    "model.to(device)\n",
    "\n",
    "if use_regression:\n",
    "    criterion = nn.MSELoss()\n",
    "else:\n",
    "    criterion = nn.BCELoss()\n",
    "\n",
    "optimizer = optim.Adam(model.parameters(), lr=1e-4)\n"
   ]
  },
  {
   "cell_type": "code",
   "execution_count": 52,
   "metadata": {},
   "outputs": [],
   "source": [
    "def train(model, dataloader, criterion, optimizer, num_epochs=10):\n",
    "    model.train()\n",
    "    \n",
    "    # 🔍 Compute initial loss (before training)\n",
    "    with torch.no_grad():\n",
    "        init_loss = 0.0\n",
    "        for images, poses, labels in dataloader:\n",
    "            images = images.to(device)\n",
    "            poses = poses.to(device)\n",
    "            labels = labels.to(device).unsqueeze(1)  # (B, 1)\n",
    "\n",
    "            outputs = model(images, poses)\n",
    "            loss = criterion(outputs, labels)\n",
    "            init_loss += loss.item()\n",
    "        init_loss /= len(dataloader)\n",
    "        print(f\"Initial Loss (Before Training): {init_loss:.4f}\")\n",
    "\n",
    "    # 🔁 Training Loop\n",
    "    for epoch in range(num_epochs):\n",
    "        running_loss = 0.0\n",
    "        i=0\n",
    "        for images, poses, labels in tqdm(dataloader, desc=f\"Epoch {epoch+1}/{num_epochs}\"):\n",
    "            images = images.to(device)\n",
    "            poses = poses.to(device)\n",
    "            labels = labels.to(device).unsqueeze(1)\n",
    "\n",
    "            optimizer.zero_grad()\n",
    "            outputs = model(images, poses)\n",
    "            loss = criterion(outputs, labels)\n",
    "            loss.backward()\n",
    "            optimizer.step()\n",
    "            \n",
    "\n",
    "            running_loss += loss.item()\n",
    "\n",
    "        avg_loss = running_loss / len(dataloader)\n",
    "        print(f\"Epoch [{epoch+1}/{num_epochs}], Loss: {avg_loss:.4f}\")\n"
   ]
  },
  {
   "cell_type": "code",
   "execution_count": null,
   "metadata": {},
   "outputs": [
    {
     "name": "stdout",
     "output_type": "stream",
     "text": [
      "Initial Loss (Before Training): 0.7476\n"
     ]
    },
    {
     "name": "stderr",
     "output_type": "stream",
     "text": [
      "Epoch 1/10:  39%|███▉      | 201/515 [03:00<04:52,  1.07it/s]"
     ]
    }
   ],
   "source": [
    "train(model, dataloader, criterion, optimizer, num_epochs=10)"
   ]
  },
  {
   "cell_type": "code",
   "execution_count": null,
   "metadata": {},
   "outputs": [],
   "source": []
  },
  {
   "cell_type": "code",
   "execution_count": null,
   "metadata": {},
   "outputs": [],
   "source": []
  }
 ],
 "metadata": {
  "kernelspec": {
   "display_name": "base",
   "language": "python",
   "name": "python3"
  },
  "language_info": {
   "codemirror_mode": {
    "name": "ipython",
    "version": 3
   },
   "file_extension": ".py",
   "mimetype": "text/x-python",
   "name": "python",
   "nbconvert_exporter": "python",
   "pygments_lexer": "ipython3",
   "version": "3.11.5"
  }
 },
 "nbformat": 4,
 "nbformat_minor": 2
}
