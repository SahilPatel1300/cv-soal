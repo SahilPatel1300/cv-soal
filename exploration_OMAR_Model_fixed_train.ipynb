{
 "cells": [
  {
   "cell_type": "markdown",
   "metadata": {},
   "source": [
    "## Get Dataset"
   ]
  },
  {
   "cell_type": "code",
   "execution_count": 1,
   "metadata": {},
   "outputs": [],
   "source": [
    "%matplotlib inline\n",
    "%load_ext autoreload\n",
    "%autoreload 2\n"
   ]
  },
  {
   "cell_type": "markdown",
   "metadata": {},
   "source": [
    "### Data Directory Analysis"
   ]
  },
  {
   "cell_type": "code",
   "execution_count": 3,
   "metadata": {},
   "outputs": [
    {
     "name": "stdout",
     "output_type": "stream",
     "text": [
      "Category: camera_poses_\n",
      "  Number of files: 35\n",
      "  Number range: 0 to 34\n",
      "Category: hand_poses_\n",
      "  Number of files: 35\n",
      "  Number range: 0 to 34\n",
      "Category: grasped_obj_keys_\n",
      "  Number of files: 35\n",
      "  Number range: 0 to 34\n",
      "Category: depth_ims_tf_table_\n",
      "  Number of files: 35\n",
      "  Number range: 0 to 34\n",
      "Category: camera_intrs_\n",
      "  Number of files: 35\n",
      "  Number range: 0 to 34\n",
      "Category: labels_\n",
      "  Number of files: 35\n",
      "  Number range: 0 to 34\n",
      "Category: grasp_metrics_\n",
      "  Number of files: 35\n",
      "  Number range: 0 to 34\n",
      "Category: traj_ids_\n",
      "  Number of files: 35\n",
      "  Number range: 0 to 34\n",
      "Category: grasp_collision_metrics_\n",
      "  Number of files: 35\n",
      "  Number range: 0 to 34\n",
      "Category: pile_ids_\n",
      "  Number of files: 35\n",
      "  Number range: 0 to 34\n",
      "\n",
      "Inspecting one file per category:\n",
      "\n",
      "Sample file for category 'camera_poses_': camera_poses_00014.npz\n",
      "  Key: arr_0, Shape: (1000, 7)\n",
      "\n",
      "Sample file for category 'hand_poses_': hand_poses_00012.npz\n",
      "  Key: arr_0, Shape: (1000, 6)\n",
      "\n",
      "Sample file for category 'grasped_obj_keys_': grasped_obj_keys_00030.npz\n",
      "  Key: arr_0, Shape: (1000,)\n",
      "\n",
      "Sample file for category 'depth_ims_tf_table_': depth_ims_tf_table_00016.npz\n",
      "  Key: arr_0, Shape: (1000, 32, 32, 1)\n",
      "\n",
      "Sample file for category 'camera_intrs_': camera_intrs_00027.npz\n",
      "  Key: arr_0, Shape: (1000, 4)\n",
      "\n",
      "Sample file for category 'labels_': labels_00005.npz\n",
      "  Key: arr_0, Shape: (1000,)\n",
      "\n",
      "Sample file for category 'grasp_metrics_': grasp_metrics_00022.npz\n",
      "  Key: arr_0, Shape: (1000,)\n",
      "\n",
      "Sample file for category 'traj_ids_': traj_ids_00006.npz\n",
      "  Key: arr_0, Shape: (1000,)\n",
      "\n",
      "Sample file for category 'grasp_collision_metrics_': grasp_collision_metrics_00005.npz\n",
      "  Key: arr_0, Shape: (1000,)\n",
      "\n",
      "Sample file for category 'pile_ids_': pile_ids_00023.npz\n",
      "  Key: arr_0, Shape: (1000,)\n"
     ]
    }
   ],
   "source": [
    "# Get File Names and Categories and Data Amount\n",
    "# File exploration\n",
    "import os\n",
    "import re\n",
    "import numpy as np\n",
    "from collections import defaultdict\n",
    "import torch\n",
    "def analyze_directory(path):\n",
    "    file_pattern = re.compile(r\"^(.*?)(\\d{5})\\..+$\")  # captures category and 5-digit number\n",
    "    category_files = defaultdict(list)\n",
    "\n",
    "    for filename in os.listdir(path):\n",
    "        match = file_pattern.match(filename)\n",
    "        if match:\n",
    "            category, number_str = match.groups()\n",
    "            category_files[category].append((filename, int(number_str)))\n",
    "\n",
    "    # Print summary of categories\n",
    "    for category, files in category_files.items():\n",
    "        numbers = [num for _, num in files]\n",
    "        print(f\"Category: {category}\")\n",
    "        print(f\"  Number of files: {len(files)}\")\n",
    "        print(f\"  Number range: {min(numbers)} to {max(numbers)}\")\n",
    "\n",
    "    print(\"\\nInspecting one file per category:\")\n",
    "    for category, files in category_files.items():\n",
    "        sample_file = next(f for f in files if f[0].endswith('.npz'))[0]\n",
    "        filepath = os.path.join(path, sample_file)\n",
    "        print(f\"\\nSample file for category '{category}': {sample_file}\")\n",
    "        try:\n",
    "            data = np.load(filepath)\n",
    "            for key in data:\n",
    "                print(f\"  Key: {key}, Shape: {data[key].shape}\")\n",
    "        except Exception as e:\n",
    "            print(f\"  Could not load file '{sample_file}': {e}\")\n",
    "\n",
    "# Example usage:\n",
    "analyze_directory(\"/Users/omargharib/Downloads/dexnet_2.1/dexnet_2.1_eps_50/tensors\")\n"
   ]
  },
  {
   "cell_type": "code",
   "execution_count": 5,
   "metadata": {},
   "outputs": [
    {
     "name": "stdout",
     "output_type": "stream",
     "text": [
      "Selected file number: 00007, sample index: 628\n",
      "\n",
      "camera_poses_00007 -> Example[628]: [-0.04356764  0.9697376  -0.2399945   0.01065528 -0.02758897 -0.05267546\n",
      "  0.6608834 ]\n",
      "\n",
      "hand_poses_00007 -> Example[628]: [2.8500000e+02 3.4100000e+02 6.2858212e-01 2.8780890e+00 2.2628678e-02\n",
      " 4.2000000e+01]\n",
      "\n"
     ]
    },
    {
     "data": {
      "image/png": "[encoded data removed]",
      "text/plain": [
       "<Figure size 640x480 with 2 Axes>"
      ]
     },
     "metadata": {},
     "output_type": "display_data"
    },
    {
     "name": "stdout",
     "output_type": "stream",
     "text": [
      "labels_00007 -> Example[628]: 0\n",
      "\n",
      "traj_ids_00007 -> Example[628]: 2224\n",
      "\n"
     ]
    },
    {
     "data": {
      "image/png": "[encoded data removed]",
      "text/plain": [
       "<Figure size 640x480 with 1 Axes>"
      ]
     },
     "metadata": {},
     "output_type": "display_data"
    },
    {
     "name": "stdout",
     "output_type": "stream",
     "text": [
      "camera_intrs_00007 -> Example[628]: [524.74243 524.74243 299.      299.     ]\n",
      "\n",
      "grasped_obj_keys_00007 -> Example[628]: b'YellowSaltCube_800_tex'\n",
      "\n",
      "grasp_collision_metrics_00007 -> Example[628]: 0.0008877353393472731\n",
      "\n",
      "pile_ids_00007 -> Example[628]: 1933\n",
      "\n"
     ]
    }
   ],
   "source": [
    "import os\n",
    "import numpy as np\n",
    "import matplotlib.pyplot as plt\n",
    "import random\n",
    "\n",
    "# Define all categories and their shape descriptions\n",
    "categories = {\n",
    "    'camera_poses_': (1000, 7),\n",
    "    'hand_poses_': (1000, 6),\n",
    "    'depth_ims_tf_table_': (466, 32, 32, 1),\n",
    "    'labels_': (1000,),\n",
    "    'traj_ids_': (1000,),\n",
    "    'grasp_metrics_': (1000,),\n",
    "    'camera_intrs_': (1000, 4),\n",
    "    'grasped_obj_keys_': (1000,),\n",
    "    'grasp_collision_metrics_': (1000,),\n",
    "    'pile_ids_': (1000,)\n",
    "}\n",
    "\n",
    "def load_file(path, category, file_num):\n",
    "    fname = f\"{category}{file_num:05d}.npz\"\n",
    "    fpath = os.path.join(path, fname)\n",
    "    return np.load(fpath)['arr_0']\n",
    "\n",
    "def find_common_file_numbers(path):\n",
    "    files = os.listdir(path)\n",
    "    category_to_nums = {cat: set() for cat in categories}\n",
    "    for fname in files:\n",
    "        for cat in categories:\n",
    "            if fname.startswith(cat) and fname.endswith('.npz'):\n",
    "                try:\n",
    "                    num = int(fname[len(cat):-4])\n",
    "                    category_to_nums[cat].add(num)\n",
    "                except:\n",
    "                    continue\n",
    "    # Find intersection of all sets\n",
    "    common_nums = set.intersection(*category_to_nums.values())\n",
    "    return sorted(list(common_nums))\n",
    "\n",
    "def visualize_random_example(path):\n",
    "    common_files = find_common_file_numbers(path)\n",
    "    if not common_files:\n",
    "        print(\"No common file numbers found across all categories.\")\n",
    "        return\n",
    "\n",
    "    chosen_file_num = random.choice(common_files)\n",
    "\n",
    "    # Load a sample file to determine valid index range\n",
    "    depth_map = load_file(path, 'depth_ims_tf_table_', chosen_file_num)\n",
    "    max_index = depth_map.shape[0]  # Likely 466\n",
    "    chosen_index = random.randint(0, max_index - 1)\n",
    "\n",
    "    print(f\"Selected file number: {chosen_file_num:05d}, sample index: {chosen_index}\\n\")\n",
    "\n",
    "    # Store and print/plot each category\n",
    "    for category in categories:\n",
    "        data = load_file(path, category, chosen_file_num)\n",
    "\n",
    "        if category == 'depth_ims_tf_table_':\n",
    "            image = data[chosen_index].squeeze()\n",
    "            plt.figure()\n",
    "            plt.title(\"Depth Map\")\n",
    "            plt.imshow(image, cmap='gray')\n",
    "            plt.colorbar()\n",
    "            plt.show()\n",
    "\n",
    "        elif category == 'grasp_metrics_':\n",
    "            plt.figure()\n",
    "            plt.title(\"Grasp Metric (value)\")\n",
    "            plt.bar([0], [data[chosen_index]])\n",
    "            plt.xticks([0], ['Grasp Metric'])\n",
    "            plt.ylabel('Score')\n",
    "            plt.show()\n",
    "\n",
    "        else:\n",
    "            print(f\"{category}{chosen_file_num:05d} -> Example[{chosen_index}]: {data[chosen_index]}\\n\")\n",
    "\n",
    "# Example usage\n",
    "# Replace this path with the actual path to your data folder\n",
    "visualize_random_example(\"/Users/omargharib/Downloads/dexnet_2.1/dexnet_2.1_eps_50/tensors\")\n"
   ]
  },
  {
   "cell_type": "code",
   "execution_count": null,
   "metadata": {},
   "outputs": [],
   "source": [
    "# cd scripts/\n",
    "# ./download_dexnet_2.sh\n"
   ]
  },
  {
   "cell_type": "code",
   "execution_count": null,
   "metadata": {},
   "outputs": [],
   "source": [
    "# dataset['image']['depth_ims']     # Shape: (N, 32, 32)   — depth image\n",
    "# dataset['pose']                   # Shape: (N, 4)        — grasp pose (x, y, z, angle)\n",
    "# dataset['success']                # Shape: (N,)          — binary label: success/failure\n"
   ]
  },
  {
   "cell_type": "code",
   "execution_count": null,
   "metadata": {},
   "outputs": [],
   "source": [
    "\"\"\"\n",
    "For tensorfloaw dataset\n",
    "\"\"\"\n",
    "# import torch\n",
    "# from torch.utils.data import Dataset\n",
    "# import h5py\n",
    "# import numpy as np\n",
    "\n",
    "# class DexNetDataset(Dataset):\n",
    "#     def __init__(self, h5_path):\n",
    "#         self.data = h5py.File(h5_path, 'r')\n",
    "#         self.depth_images = self.data['image']['depth_ims'][:]\n",
    "#         self.labels = self.data['grasp_qualities'][:]  # or 'success', depending on file\n",
    "\n",
    "#     def __len__(self):\n",
    "#         return len(self.depth_images)\n",
    "\n",
    "#     def __getitem__(self, idx):\n",
    "#         img = self.depth_images[idx]\n",
    "#         img = np.expand_dims(img, axis=0)  # Convert to (1, H, W) for PyTorch CNN\n",
    "#         label = self.labels[idx]\n",
    "#         return torch.tensor(img, dtype=torch.float32), torch.tensor(label, dtype=torch.float32)\n",
    "\n",
    "\n",
    "# from torch.utils.data import DataLoader\n",
    "\n",
    "# dataset = DexNetDataset('path/to/dexnet_dataset.h5')\n",
    "# dataloader = DataLoader(dataset, batch_size=32, shuffle=True)\n"
   ]
  },
  {
   "cell_type": "code",
   "execution_count": 7,
   "metadata": {},
   "outputs": [],
   "source": [
    "from customize_dataset import DexNetNPZDataset\n",
    "from torch.utils.data import DataLoader\n",
    "\n",
    "dataset = DexNetNPZDataset('/Users/omargharib/Downloads/dexnet_2.1/dexnet_2.1_eps_50/tensors')\n",
    "dataloader = DataLoader(dataset, batch_size=16, shuffle=True, num_workers=4)"
   ]
  },
  {
   "cell_type": "code",
   "execution_count": 9,
   "metadata": {},
   "outputs": [
    {
     "name": "stdout",
     "output_type": "stream",
     "text": [
      "torch.Size([1, 32, 32])\n",
      "torch.Size([6])\n",
      "tensor(0.0065)\n"
     ]
    }
   ],
   "source": [
    "# Load dataset with regression labels and full 6D poses\n",
    "from customize_dataset import DexNetNPZDatasetAll\n",
    "from torch.utils.data import DataLoader, random_split\n",
    "dataset = DexNetNPZDatasetAll(tensor_dir='/Users/omargharib/Downloads/dexnet_2.1/dexnet_2.1_eps_50/tensors', use_regression=True, pose_dims=[0, 1, 2, 3, 4, 5])\n",
    "img, pose, label = dataset[0]\n",
    "print(img.shape)    # torch.Size([3, 32, 32])\n",
    "print(pose.shape)   # torch.Size([6])\n",
    "print(label)        # A float (grasp quality)\n",
    "\n",
    "dataloader = DataLoader(dataset, batch_size=16, shuffle=True, num_workers=4)\n"
   ]
  },
  {
   "cell_type": "code",
   "execution_count": 11,
   "metadata": {},
   "outputs": [
    {
     "name": "stdout",
     "output_type": "stream",
     "text": [
      "torch.Size([16, 1, 32, 32]) tensor([[ 3.0000e+02,  3.8000e+02,  7.1893e-01,  6.0782e+00,  2.2682e-02,\n",
      "          3.7000e+01],\n",
      "        [ 3.9200e+02,  1.9900e+02,  7.2946e-01,  5.4255e+00,  1.7668e-02,\n",
      "          3.6000e+01],\n",
      "        [ 3.1800e+02,  2.8300e+02,  7.0609e-01,  1.8357e+00,  9.6458e-03,\n",
      "          3.7000e+01],\n",
      "        [ 3.1700e+02,  2.7500e+02,  6.5424e-01,  4.9491e+00, -4.4021e-02,\n",
      "          4.0000e+01],\n",
      "        [ 3.1800e+02,  3.0700e+02,  7.3879e-01,  1.9460e+00, -3.4253e-02,\n",
      "          3.6000e+01],\n",
      "        [ 2.4600e+02,  3.0500e+02,  6.5658e-01,  4.4994e+00,  4.5764e-02,\n",
      "          4.0000e+01],\n",
      "        [ 3.6300e+02,  2.2400e+02,  6.9709e-01,  3.1643e+00, -4.1339e-02,\n",
      "          3.8000e+01],\n",
      "        [ 3.0800e+02,  2.8000e+02,  6.7189e-01,  1.5955e-01,  8.9274e-03,\n",
      "          3.9000e+01],\n",
      "        [ 2.0400e+02,  2.9700e+02,  6.7385e-01,  4.7153e+00,  1.9597e-04,\n",
      "          3.9000e+01],\n",
      "        [ 3.7200e+02,  3.7900e+02,  7.3208e-01,  6.0303e+00,  3.1101e-02,\n",
      "          3.6000e+01],\n",
      "        [ 3.3600e+02,  2.1100e+02,  6.8155e-01,  2.3060e+00, -9.8518e-03,\n",
      "          3.8000e+01],\n",
      "        [ 3.4100e+02,  3.7200e+02,  6.6056e-01,  8.0101e-01, -8.9860e-03,\n",
      "          3.9000e+01],\n",
      "        [ 3.3800e+02,  3.4100e+02,  7.2105e-01,  3.6396e+00, -2.7245e-02,\n",
      "          3.6000e+01],\n",
      "        [ 3.2000e+02,  3.4000e+02,  7.1611e-01,  3.1691e+00,  2.1014e-02,\n",
      "          3.7000e+01],\n",
      "        [ 3.4000e+02,  2.9300e+02,  6.4720e-01,  9.2979e-01, -1.1821e-02,\n",
      "          4.0000e+01],\n",
      "        [ 3.3300e+02,  3.6600e+02,  6.5594e-01,  2.5074e+00,  2.3341e-02,\n",
      "          4.0000e+01]])\n"
     ]
    }
   ],
   "source": [
    "for i in dataloader:\n",
    "    print(i[0].shape, i[1])\n",
    "    break\n"
   ]
  },
  {
   "cell_type": "code",
   "execution_count": 13,
   "metadata": {},
   "outputs": [
    {
     "data": {
      "text/plain": [
       "torch.Size([16, 1, 32, 32])"
      ]
     },
     "execution_count": 13,
     "metadata": {},
     "output_type": "execute_result"
    }
   ],
   "source": [
    "i[0].shape"
   ]
  },
  {
   "cell_type": "markdown",
   "metadata": {
    "jp-MarkdownHeadingCollapsed": true
   },
   "source": [
    "## Image Model"
   ]
  },
  {
   "cell_type": "code",
   "execution_count": null,
   "metadata": {},
   "outputs": [],
   "source": [
    "import torch.nn as nn\n",
    "import torch.nn.functional as F\n",
    "\n",
    "class SimpleCNN(nn.Module):\n",
    "    def __init__(self):\n",
    "        super(SimpleCNN, self).__init__()\n",
    "        self.conv1 = nn.Conv2d(1, 16, 3)\n",
    "        self.pool = nn.MaxPool2d(2)\n",
    "        self.conv2 = nn.Conv2d(16, 32, 3)\n",
    "        self.fc1 = nn.Linear(32 * 6 * 6, 64)\n",
    "        self.fc2 = nn.Linear(64, 1)  # Binary classification (grasp success)\n",
    "\n",
    "    def forward(self, x):\n",
    "        x = self.pool(F.relu(self.conv1(x)))  # (B, 16, 15, 15)\n",
    "        x = self.pool(F.relu(self.conv2(x)))  # (B, 32, 6, 6)\n",
    "        x = x.view(-1, 32 * 6 * 6)\n",
    "        x = F.relu(self.fc1(x))\n",
    "        x = torch.sigmoid(self.fc2(x))\n",
    "        return x\n"
   ]
  },
  {
   "cell_type": "code",
   "execution_count": null,
   "metadata": {},
   "outputs": [],
   "source": [
    "import torch\n",
    "import torch.nn as nn\n",
    "from torchvision.models import resnet50, ResNet50_Weights\n",
    "\n",
    "class ResNetGraspNet(nn.Module):\n",
    "    \"\"\"\n",
    "    A binary classification model for grasp success using ResNet-50 as a backbone.\n",
    "    \"\"\"\n",
    "    def __init__(self, pretrained: bool = True, num_classes: int = 1, dropout_rate: float = 0.2):\n",
    "        super(ResNetGraspNet, self).__init__()\n",
    "        # Load ResNet-50 backbone with optional ImageNet pretrained weights\n",
    "        weights = ResNet50_Weights.IMAGENET1K_V2 if pretrained else None\n",
    "        self.backbone = resnet50(weights=weights)\n",
    "        # Retrieve number of input features to the classifier head\n",
    "        in_features = self.backbone.fc.in_features\n",
    "        # Replace the original classification head\n",
    "        self.backbone.fc = nn.Sequential(\n",
    "            nn.Dropout(dropout_rate, inplace=True),\n",
    "            nn.Linear(in_features, num_classes),\n",
    "            nn.Sigmoid()\n",
    "        )\n",
    "\n",
    "    def forward(self, x: torch.Tensor) -> torch.Tensor:\n",
    "        # Forward pass through ResNet-50 and sigmoid head\n",
    "        return self.backbone(x)"
   ]
  },
  {
   "cell_type": "code",
   "execution_count": null,
   "metadata": {},
   "outputs": [],
   "source": [
    "import torch\n",
    "import torch.nn as nn\n",
    "from torchvision.models import efficientnet_v2_s, EfficientNet_V2_S_Weights\n",
    "\n",
    "class EfficientNetV2GraspNet(nn.Module):\n",
    "    \"\"\"\n",
    "    A binary classification model for grasp success using EfficientNet-V2-S as a backbone.\n",
    "    \"\"\"\n",
    "    def __init__(self, pretrained: bool = True, num_classes: int = 1, dropout_rate: float = 0.2):\n",
    "        super(EfficientNetV2GraspNet, self).__init__()\n",
    "        # Load EfficientNet-V2-S backbone with optional ImageNet pretrained weights\n",
    "        weights = EfficientNet_V2_S_Weights.IMAGENET1K_V1 if pretrained else None\n",
    "        self.backbone = efficientnet_v2_s(weights=weights)\n",
    "        # Retrieve number of input features to the classifier head\n",
    "        in_features = self.backbone.classifier[1].in_features\n",
    "        # Replace the classifier head for binary grasp success prediction\n",
    "        self.backbone.classifier = nn.Sequential(\n",
    "            nn.Dropout(dropout_rate, inplace=True),\n",
    "            nn.Linear(in_features, num_classes),\n",
    "            nn.Sigmoid()\n",
    "        )\n",
    "\n",
    "    def forward(self, x: torch.Tensor) -> torch.Tensor:\n",
    "        # Forward pass through EfficientNet-V2 and sigmoid head\n",
    "        return self.backbone(x)"
   ]
  },
  {
   "cell_type": "markdown",
   "metadata": {},
   "source": [
    "### Forward Pass and Evaluation Measurements Define"
   ]
  },
  {
   "cell_type": "code",
   "execution_count": null,
   "metadata": {},
   "outputs": [],
   "source": [
    "dataloader"
   ]
  },
  {
   "cell_type": "markdown",
   "metadata": {},
   "source": [
    "### Model Training"
   ]
  },
  {
   "cell_type": "code",
   "execution_count": null,
   "metadata": {},
   "outputs": [],
   "source": [
    "for i in model.parameters():\n",
    "    print(i.shape)"
   ]
  },
  {
   "cell_type": "code",
   "execution_count": null,
   "metadata": {},
   "outputs": [],
   "source": [
    "# model = SimpleCNN()\n",
    "model = EfficientNetV2GraspNet()\n",
    "criterion = nn.BCELoss()\n",
    "optimizer = torch.optim.Adam(model.parameters(), lr=1e-3)\n",
    "\n",
    "from tqdm import tqdm\n",
    "for epoch in range(3):\n",
    "    for imgs, labels in tqdm(dataloader):\n",
    "        outputs = model(imgs)\n",
    "        loss = criterion(outputs.squeeze(), labels)\n",
    "        optimizer.zero_grad()\n",
    "        loss.backward()\n",
    "        optimizer.step()\n",
    "        break\n"
   ]
  },
  {
   "cell_type": "code",
   "execution_count": null,
   "metadata": {},
   "outputs": [],
   "source": [
    "import torch\n",
    "from tqdm import tqdm\n",
    "\n",
    "num_epochs = 3\n",
    "loss_history = []\n",
    "\n",
    "for epoch in range(num_epochs):\n",
    "    model.train()\n",
    "    running_loss = 0.0\n",
    "    correct = 0\n",
    "    total = 0\n",
    "\n",
    "    progress_bar = tqdm(dataloader, desc=f\"Epoch {epoch+1}/{num_epochs}\")\n",
    "    \n",
    "    for imgs, labels in progress_bar:\n",
    "        outputs = model(imgs).squeeze()\n",
    "        loss = criterion(outputs, labels)\n",
    "\n",
    "        optimizer.zero_grad()\n",
    "        loss.backward()\n",
    "        optimizer.step()\n",
    "\n",
    "        # Accumulate metrics\n",
    "        running_loss += loss.item() * imgs.size(0)\n",
    "\n",
    "        # Optional: compute accuracy\n",
    "        predicted = (outputs >= 0.5).float()\n",
    "        correct += (predicted == labels).sum().item()\n",
    "        total += labels.size(0)\n",
    "        break\n",
    "\n",
    "    epoch_loss = running_loss / total\n",
    "    accuracy = correct / total\n",
    "\n",
    "    loss_history.append(epoch_loss)\n",
    "\n",
    "    print(f\"Epoch [{epoch+1}/{num_epochs}] — Loss: {epoch_loss:.4f} — Accuracy: {accuracy:.4f}\")\n"
   ]
  },
  {
   "cell_type": "code",
   "execution_count": null,
   "metadata": {},
   "outputs": [],
   "source": [
    "import matplotlib.pyplot as plt\n",
    "\n",
    "plt.plot(loss_history, marker='o')\n",
    "plt.xlabel('Epoch')\n",
    "plt.ylabel('Loss')\n",
    "plt.title('Training Loss per Epoch')\n",
    "plt.grid(True)\n",
    "plt.show()\n"
   ]
  },
  {
   "cell_type": "markdown",
   "metadata": {},
   "source": [
    "## Image + Poses Model"
   ]
  },
  {
   "cell_type": "code",
   "execution_count": null,
   "metadata": {},
   "outputs": [],
   "source": [
    "import torch\n",
    "import torch.nn as nn\n",
    "import torch.nn.functional as F\n",
    "\n",
    "class SimpleGQCNN(nn.Module):\n",
    "    def __init__(self, pose_dim=4, output_type='binary', merge_methods=\"element_dot\"):\n",
    "        \"\"\"\n",
    "        pose_dim: number of dimensions in the pose vector (e.g., x, y, z, theta)\n",
    "        output_type: 'binary' or 'regression'\n",
    "        \"\"\"\n",
    "        super(SimpleGQCNN, self).__init__()\n",
    "        self.output_type = output_type\n",
    "\n",
    "        # Image stream\n",
    "        self.conv1 = nn.Conv2d(1, 16, 3)           # → (B, 16, 30, 30)\n",
    "        self.pool = nn.MaxPool2d(2, 2)             # → (B, 16, 15, 15)\n",
    "        self.conv2 = nn.Conv2d(16, 32, 3)          # → (B, 32, 13, 13) → pool → (B, 32, 6, 6)\n",
    "        self.im_fc = nn.Linear(32 * 6 * 6, 64)     # → (B, 64)\n",
    "        self.bn1 = nn.BatchNorm2d(16)\n",
    "        self.bn2 = nn.BatchNorm2d(32)\n",
    "        self.im_fc_bn = nn.BatchNorm1d(64)\n",
    "\n",
    "        # Pose stream\n",
    "        self.pose_fc1 = nn.Linear(pose_dim, 64)\n",
    "        self.pose_fc2 = nn.Linear(64, 64)\n",
    "        self.dropout = nn.Dropout(p=0.5)\n",
    "        self.merge_methods = merge_methods\n",
    "        if self.merge_methods == \"element_dot\":\n",
    "            # Merge stream after elementwise multiplication\n",
    "            self.merge_fc1 = nn.Linear(64, 32)\n",
    "            self.merge_fc2 = nn.Linear(32, 1)\n",
    "        else:\n",
    "            # Merge stream by concatanation\n",
    "            self.merge_fc1 = nn.Linear(64 + 64, 64)\n",
    "            self.merge_fc2 = nn.Linear(64, 1)  # Single output for binary or regression\n",
    "\n",
    "    def forward(self, image, pose):\n",
    "        \n",
    "        # Image stream\n",
    "        x = self.pool(F.relu(self.bn1(self.conv1(image))))   # (B, 16, 15, 15)\n",
    "        x = self.pool(F.relu(self.bn2(self.conv2(x))))       # (B, 32, 6, 6)\n",
    "        # x = x.view(x.size(0), -1)                  # Flatten\n",
    "        x = torch.flatten(x, start_dim=1)\n",
    "        x = F.relu(self.im_fc(x))                  # (B, 64)\n",
    "\n",
    "        # Pose stream\n",
    "        p = self.dropout(F.relu(self.pose_fc1(pose)))            # (B, 64)\n",
    "        p = self.dropout(F.relu(self.pose_fc2(p)))               # (B, 64)\n",
    "\n",
    "        if self.merge_methods == \"element_dot\":\n",
    "            # Element-wise multiplication\n",
    "            combined = x * p                           # (B, 64)\n",
    "        else:\n",
    "            # Merge\n",
    "            combined = torch.cat((x, p), dim=1)       # -> (B, 96)\n",
    "\n",
    "        # Final layers\n",
    "        out = F.relu(self.merge_fc1(combined))     # (B, 32)\n",
    "        out = self.merge_fc2(out)                  # (B, 1)\n",
    "\n",
    "        if self.output_type == 'binary':\n",
    "            out = torch.sigmoid(out)               # Binary prediction\n",
    "        return out\n"
   ]
  },
  {
   "cell_type": "code",
   "execution_count": 15,
   "metadata": {},
   "outputs": [],
   "source": [
    "import torch\n",
    "import torch.nn as nn\n",
    "import torch.nn.functional as F\n",
    "from torchvision.models import resnet50, ResNet50_Weights\n",
    "\n",
    "class SimpleGQCNN(nn.Module):\n",
    "    \"\"\"\n",
    "    OMAR MODEL\n",
    "    A grasp-quality classifier combining ResNet-50 image features with pose embeddings (supports single-channel input).\n",
    "    \"\"\"\n",
    "    def __init__(self, pose_dim=4, hidden_dim=64, output_type='binary', pretrained=True, dropout_rate=0.2):\n",
    "        super(SimpleGQCNN, self).__init__()\n",
    "        self.output_type = output_type\n",
    "\n",
    "        # 1) Visual backbone: ResNet-50, modify for 1-channel input\n",
    "        weights = ResNet50_Weights.IMAGENET1K_V2 if pretrained else None\n",
    "        backbone = resnet50(weights=weights)\n",
    "\n",
    "        # Replace first conv to accept 1 input channel instead of 3\n",
    "        orig_conv = backbone.conv1\n",
    "        new_conv = nn.Conv2d(\n",
    "            in_channels=1,\n",
    "            out_channels=orig_conv.out_channels,\n",
    "            kernel_size=orig_conv.kernel_size,\n",
    "            stride=orig_conv.stride,\n",
    "            padding=orig_conv.padding,\n",
    "            bias=(orig_conv.bias is not None)\n",
    "        )\n",
    "        if pretrained:\n",
    "            # initialize by summing pretrained weights over original RGB channels\n",
    "            with torch.no_grad():\n",
    "                new_conv.weight[:] = orig_conv.weight.sum(dim=1, keepdim=True)\n",
    "                if orig_conv.bias is not None:\n",
    "                    new_conv.bias[:] = orig_conv.bias\n",
    "        backbone.conv1 = new_conv\n",
    "\n",
    "        # Remove original classifier head\n",
    "        self.feature_extractor = nn.Sequential(*list(backbone.children())[:-1])  # outputs [B, 2048, 1, 1]\n",
    "        feat_size = backbone.fc.in_features  # 2048\n",
    "        # Project extracted features to hidden_dim\n",
    "        self.im_fc = nn.Linear(feat_size, hidden_dim)\n",
    "\n",
    "        # 2) Pose stream\n",
    "        self.pose_fc1 = nn.Linear(pose_dim, hidden_dim)\n",
    "        self.pose_fc2 = nn.Linear(hidden_dim, hidden_dim)\n",
    "\n",
    "        # 3) Merge & classifier\n",
    "        self.merge_fc1 = nn.Linear(hidden_dim, hidden_dim // 2)\n",
    "        self.merge_fc2 = nn.Linear(hidden_dim // 2, 1)\n",
    "        self.dropout = nn.Dropout(dropout_rate)\n",
    "\n",
    "    def forward(self, image, pose):\n",
    "        # Image stream: extract and flatten features\n",
    "        x = self.feature_extractor(image)    # [B, 2048, 1, 1]\n",
    "        x = torch.flatten(x, 1)              # [B, 2048]\n",
    "        x = F.relu(self.im_fc(x))            # [B, hidden_dim]\n",
    "\n",
    "        # Pose stream\n",
    "        p = F.relu(self.pose_fc1(pose))      # [B, hidden_dim]\n",
    "        p = F.relu(self.pose_fc2(p))         # [B, hidden_dim]\n",
    "\n",
    "        # Fusion via element-wise multiplication\n",
    "        combined = x * p                     # [B, hidden_dim]\n",
    "        combined = self.dropout(combined)\n",
    "\n",
    "        # Final MLP\n",
    "        out = F.relu(self.merge_fc1(combined))  # [B, hidden_dim//2]\n",
    "        out = self.merge_fc2(out)               # [B, 1]\n",
    "\n",
    "        if self.output_type == 'binary':\n",
    "            out = torch.sigmoid(out)            # probability for binary\n",
    "        return out\n"
   ]
  },
  {
   "cell_type": "code",
   "execution_count": 17,
   "metadata": {},
   "outputs": [
    {
     "name": "stdout",
     "output_type": "stream",
     "text": [
      "torch.Size([8, 1])\n"
     ]
    }
   ],
   "source": [
    "model = SimpleGQCNN(pose_dim=4, output_type='regression')  # or 'binary'\n",
    "\n",
    "image = torch.randn(8, 1, 32, 32)  # Batch of 8 grayscale images\n",
    "pose = torch.randn(8, 4)          # Corresponding batch of 4D poses\n",
    "\n",
    "output = model(image, pose)\n",
    "print(output.shape)  # torch.Size([8, 1])\n"
   ]
  },
  {
   "cell_type": "code",
   "execution_count": null,
   "metadata": {},
   "outputs": [],
   "source": [
    "print(torch.cuda.device_count())\n",
    "print(torch.cuda.get_device_name())"
   ]
  },
  {
   "cell_type": "code",
   "execution_count": 19,
   "metadata": {},
   "outputs": [],
   "source": [
    "import torch.optim as optim\n",
    "from tqdm import tqdm\n",
    "import os\n",
    "from torch.optim.lr_scheduler import ReduceLROnPlateau\n",
    "from torch.amp import GradScaler, autocast\n",
    "\n",
    "# Set config\n",
    "tensor_dir = '/Users/omargharib/Downloads/dexnet_2.1/dexnet_2.1_eps_50/tensors'  # replace with actual path\n",
    "batch_size = 32\n",
    "use_regression = False  # or True\n",
    "pose_dims = [2]          # or full [0, 1, 2, 3, 4, 5]\n",
    "# torch.backends.cudnn.benchmark = True\n",
    "# Create dataset and dataloader\n",
    "\n",
    "\n",
    "dataset = DexNetNPZDatasetAll(tensor_dir=tensor_dir, use_regression=use_regression, pose_dims=pose_dims)\n",
    "val_split = 0.2  # 20% for validation\n",
    "val_size = int(len(dataset) * val_split)\n",
    "train_size = len(dataset) - val_size\n",
    "\n",
    "train_dataset, val_dataset = random_split(dataset, [train_size, val_size])\n",
    "\n",
    "# ✅ Create DataLoaders\n",
    "train_loader = DataLoader(\n",
    "    train_dataset, batch_size=batch_size, shuffle=True,\n",
    "    num_workers=8, pin_memory=True\n",
    ")\n",
    "\n",
    "val_loader = DataLoader(\n",
    "    val_dataset, batch_size=batch_size, shuffle=False,\n",
    "    num_workers=8, pin_memory=True\n",
    ")\n",
    "model = SimpleGQCNN(pose_dim=len(pose_dims), output_type='regression' if use_regression else 'binary')\n",
    "os.environ[\"CUDA_VISIBLE_DEVICES\"]=\"1\"\n",
    "device = torch.device('cuda:0' if torch.cuda.is_available() else 'cpu')\n",
    "model.to(device)\n",
    "\n",
    "if use_regression:\n",
    "    criterion = nn.MSELoss()\n",
    "else:\n",
    "    criterion = nn.BCELoss()\n",
    "\n",
    "optimizer = optim.Adam(model.parameters(), lr=1e-4)\n",
    "scheduler = ReduceLROnPlateau(optimizer, mode='min', factor=0.1, patience=2)\n"
   ]
  },
  {
   "cell_type": "code",
   "execution_count": 21,
   "metadata": {},
   "outputs": [],
   "source": [
    "def train(model, train_loader, val_loader, criterion, optimizer, scheduler, device,\n",
    "          num_epochs=10, save_path=\"model.pth\"):\n",
    "\n",
    "    model = model.to(device, memory_format=torch.channels_last)\n",
    "    scaler = GradScaler()\n",
    "\n",
    "    train_losses = []\n",
    "    val_losses = []\n",
    "    best_val_loss = float(\"inf\")\n",
    "\n",
    "    for epoch in range(num_epochs):\n",
    "        model.train()\n",
    "        running_loss = 0.0\n",
    "\n",
    "        # 🔁 Training Loop\n",
    "        for images, poses, labels in tqdm(train_loader, desc=f\"[Epoch {epoch+1}/{num_epochs}] Training\"):\n",
    "            images = images.to(device, non_blocking=True).contiguous(memory_format=torch.channels_last)\n",
    "            poses = poses.to(device, non_blocking=True)\n",
    "            labels = labels.to(device, non_blocking=True).unsqueeze(1)\n",
    "\n",
    "            optimizer.zero_grad()\n",
    "            with autocast(\"cuda\"):\n",
    "                outputs = model(images, poses)\n",
    "                loss = criterion(outputs, labels)\n",
    "\n",
    "            scaler.scale(loss).backward()\n",
    "            scaler.step(optimizer)\n",
    "            scaler.update()\n",
    "\n",
    "            running_loss += loss.item()\n",
    "\n",
    "        avg_train_loss = running_loss / len(train_loader)\n",
    "        train_losses.append(avg_train_loss)\n",
    "\n",
    "        # 🔍 Evaluation Loop\n",
    "        model.eval()\n",
    "        val_loss = 0.0\n",
    "        with torch.no_grad():\n",
    "            for images, poses, labels in tqdm(val_loader, desc=f\"[Epoch {epoch+1}] Validation\"):\n",
    "                images = images.to(device, non_blocking=True).contiguous(memory_format=torch.channels_last)\n",
    "                poses = poses.to(device, non_blocking=True)\n",
    "                labels = labels.to(device, non_blocking=True).unsqueeze(1)\n",
    "\n",
    "                with autocast(\"cuda\"):\n",
    "                    outputs = model(images, poses)\n",
    "                    loss = criterion(outputs, labels)\n",
    "\n",
    "                val_loss += loss.item()\n",
    "\n",
    "        avg_val_loss = val_loss / len(val_loader)\n",
    "        val_losses.append(avg_val_loss)\n",
    "\n",
    "        scheduler.step(avg_val_loss)\n",
    "        current_lr = optimizer.param_groups[0]['lr']\n",
    "\n",
    "        print(f\"Epoch {epoch+1}: Train Loss = {avg_train_loss:.4f}, Val Loss = {avg_val_loss:.4f}, LR = {current_lr:.2e}\")\n",
    "\n",
    "        # ✅ Save best model\n",
    "        if avg_val_loss < best_val_loss:\n",
    "            best_val_loss = avg_val_loss\n",
    "            torch.save(model.state_dict(), save_path)\n",
    "            print(f\"✔️ Saved best model to '{save_path}'\")\n",
    "\n",
    "    # 📊 Plot training & validation loss\n",
    "    plt.figure(figsize=(8, 4))\n",
    "    plt.plot(train_losses, label='Train Loss', marker='o')\n",
    "    plt.plot(val_losses, label='Validation Loss', marker='x')\n",
    "    plt.xlabel(\"Epoch\")\n",
    "    plt.ylabel(\"Loss\")\n",
    "    plt.title(\"Training and Validation Loss\")\n",
    "    plt.grid(True)\n",
    "    plt.legend()\n",
    "    plt.tight_layout()\n",
    "    plt.savefig(\"loss_curve.png\")\n",
    "    plt.show()\n",
    "\n",
    "    return train_losses, val_losses\n"
   ]
  },
  {
   "cell_type": "code",
   "execution_count": null,
   "metadata": {},
   "outputs": [],
   "source": []
  },
  {
   "cell_type": "code",
   "execution_count": 23,
   "metadata": {},
   "outputs": [
    {
     "name": "stderr",
     "output_type": "stream",
     "text": [
      "/opt/anaconda3/lib/python3.11/site-packages/torch/amp/grad_scaler.py:132: UserWarning: torch.cuda.amp.GradScaler is enabled, but CUDA is not available.  Disabling.\n",
      "  warnings.warn(\n",
      "[Epoch 1/10] Training:   0%|                            | 0/871 [00:00<?, ?it/s]/opt/anaconda3/lib/python3.11/site-packages/torch/amp/autocast_mode.py:266: UserWarning: User provided device_type of 'cuda', but CUDA is not available. Disabling\n",
      "  warnings.warn(\n",
      "[Epoch 1/10] Training: 100%|██████████████████| 871/871 [23:18<00:00,  1.61s/it]\n",
      "[Epoch 1] Validation: 100%|███████████████████| 218/218 [05:40<00:00,  1.56s/it]\n"
     ]
    },
    {
     "name": "stdout",
     "output_type": "stream",
     "text": [
      "Epoch 1: Train Loss = 0.4946, Val Loss = 0.3874, LR = 1.00e-04\n",
      "✔️ Saved best model to 'model.pth'\n"
     ]
    },
    {
     "name": "stderr",
     "output_type": "stream",
     "text": [
      "[Epoch 2/10] Training: 100%|██████████████████| 871/871 [23:37<00:00,  1.63s/it]\n",
      "[Epoch 2] Validation: 100%|███████████████████| 218/218 [05:24<00:00,  1.49s/it]\n"
     ]
    },
    {
     "name": "stdout",
     "output_type": "stream",
     "text": [
      "Epoch 2: Train Loss = 0.3683, Val Loss = 0.3612, LR = 1.00e-04\n",
      "✔️ Saved best model to 'model.pth'\n"
     ]
    },
    {
     "name": "stderr",
     "output_type": "stream",
     "text": [
      "[Epoch 3/10] Training: 100%|██████████████████| 871/871 [23:10<00:00,  1.60s/it]\n",
      "[Epoch 3] Validation: 100%|███████████████████| 218/218 [05:29<00:00,  1.51s/it]\n"
     ]
    },
    {
     "name": "stdout",
     "output_type": "stream",
     "text": [
      "Epoch 3: Train Loss = 0.3450, Val Loss = 0.3403, LR = 1.00e-04\n",
      "✔️ Saved best model to 'model.pth'\n"
     ]
    },
    {
     "name": "stderr",
     "output_type": "stream",
     "text": [
      "[Epoch 4/10] Training: 100%|██████████████████| 871/871 [23:09<00:00,  1.59s/it]\n",
      "[Epoch 4] Validation: 100%|███████████████████| 218/218 [05:22<00:00,  1.48s/it]\n"
     ]
    },
    {
     "name": "stdout",
     "output_type": "stream",
     "text": [
      "Epoch 4: Train Loss = 0.3253, Val Loss = 0.3276, LR = 1.00e-04\n",
      "✔️ Saved best model to 'model.pth'\n"
     ]
    },
    {
     "name": "stderr",
     "output_type": "stream",
     "text": [
      "[Epoch 5/10] Training: 100%|██████████████████| 871/871 [22:47<00:00,  1.57s/it]\n",
      "[Epoch 5] Validation: 100%|███████████████████| 218/218 [05:24<00:00,  1.49s/it]\n"
     ]
    },
    {
     "name": "stdout",
     "output_type": "stream",
     "text": [
      "Epoch 5: Train Loss = 0.3147, Val Loss = 0.3459, LR = 1.00e-04\n"
     ]
    },
    {
     "name": "stderr",
     "output_type": "stream",
     "text": [
      "[Epoch 6/10] Training: 100%|██████████████████| 871/871 [22:38<00:00,  1.56s/it]\n",
      "[Epoch 6] Validation: 100%|███████████████████| 218/218 [05:35<00:00,  1.54s/it]\n"
     ]
    },
    {
     "name": "stdout",
     "output_type": "stream",
     "text": [
      "Epoch 6: Train Loss = 0.3025, Val Loss = 0.3391, LR = 1.00e-04\n"
     ]
    },
    {
     "name": "stderr",
     "output_type": "stream",
     "text": [
      "[Epoch 7/10] Training: 100%|██████████████████| 871/871 [22:35<00:00,  1.56s/it]\n",
      "[Epoch 7] Validation: 100%|███████████████████| 218/218 [05:32<00:00,  1.53s/it]\n"
     ]
    },
    {
     "name": "stdout",
     "output_type": "stream",
     "text": [
      "Epoch 7: Train Loss = 0.2842, Val Loss = 0.3309, LR = 1.00e-05\n"
     ]
    },
    {
     "name": "stderr",
     "output_type": "stream",
     "text": [
      "[Epoch 8/10] Training: 100%|██████████████████| 871/871 [23:40<00:00,  1.63s/it]\n",
      "[Epoch 8] Validation: 100%|███████████████████| 218/218 [05:39<00:00,  1.56s/it]\n"
     ]
    },
    {
     "name": "stdout",
     "output_type": "stream",
     "text": [
      "Epoch 8: Train Loss = 0.2414, Val Loss = 0.3277, LR = 1.00e-05\n"
     ]
    },
    {
     "name": "stderr",
     "output_type": "stream",
     "text": [
      "[Epoch 9/10] Training: 100%|██████████████████| 871/871 [22:58<00:00,  1.58s/it]\n",
      "[Epoch 9] Validation: 100%|███████████████████| 218/218 [05:30<00:00,  1.52s/it]\n"
     ]
    },
    {
     "name": "stdout",
     "output_type": "stream",
     "text": [
      "Epoch 9: Train Loss = 0.2210, Val Loss = 0.3345, LR = 1.00e-05\n"
     ]
    },
    {
     "name": "stderr",
     "output_type": "stream",
     "text": [
      "[Epoch 10/10] Training: 100%|█████████████████| 871/871 [22:53<00:00,  1.58s/it]\n",
      "[Epoch 10] Validation: 100%|██████████████████| 218/218 [05:31<00:00,  1.52s/it]\n"
     ]
    },
    {
     "name": "stdout",
     "output_type": "stream",
     "text": [
      "Epoch 10: Train Loss = 0.2069, Val Loss = 0.3455, LR = 1.00e-06\n"
     ]
    },
    {
     "data": {
      "image/png": "[encoded data removed]",
      "text/plain": [
       "<Figure size 800x400 with 1 Axes>"
      ]
     },
     "metadata": {},
     "output_type": "display_data"
    },
    {
     "data": {
      "text/plain": [
       "([0.49455426766801236,\n",
       "  0.36831278743138957,\n",
       "  0.34503942000948057,\n",
       "  0.32528824266794765,\n",
       "  0.3146912164720958,\n",
       "  0.30253099526966204,\n",
       "  0.28424383254227764,\n",
       "  0.24138462640148353,\n",
       "  0.22100653312031082,\n",
       "  0.20692703060711704],\n",
       " [0.38741574060479433,\n",
       "  0.36121600114424296,\n",
       "  0.340253655721835,\n",
       "  0.32761892068003295,\n",
       "  0.345904418839774,\n",
       "  0.3390848973612173,\n",
       "  0.33091348149907696,\n",
       "  0.3276761156429938,\n",
       "  0.3344710666447058,\n",
       "  0.3454844217166441])"
      ]
     },
     "execution_count": 23,
     "metadata": {},
     "output_type": "execute_result"
    }
   ],
   "source": [
    "train(model, train_loader, val_loader, criterion, optimizer, scheduler, device, num_epochs=10)"
   ]
  },
  {
   "cell_type": "code",
   "execution_count": 25,
   "metadata": {},
   "outputs": [],
   "source": [
    "def evaluate_accuracy(model, dataloader, device, threshold=0.5):\n",
    "    model.eval()\n",
    "    correct = 0\n",
    "    total = 0\n",
    "\n",
    "    with torch.no_grad():\n",
    "        for images, poses, labels in dataloader:\n",
    "            images = images.to(device, non_blocking=True).contiguous(memory_format=torch.channels_last)\n",
    "            poses = poses.to(device, non_blocking=True)\n",
    "            labels = labels.to(device, non_blocking=True).unsqueeze(1)\n",
    "\n",
    "            outputs = model(images, poses)\n",
    "            predictions = (outputs >= threshold).float()  # binary threshold\n",
    "            correct += (predictions == labels).sum().item()\n",
    "            total += labels.size(0)\n",
    "\n",
    "    accuracy = correct / total\n",
    "    print(f\"✅ Accuracy: {accuracy * 100:.2f}%\")\n",
    "    return accuracy\n"
   ]
  },
  {
   "cell_type": "code",
   "execution_count": 27,
   "metadata": {},
   "outputs": [
    {
     "name": "stdout",
     "output_type": "stream",
     "text": [
      "✅ Accuracy: 85.85%\n"
     ]
    }
   ],
   "source": [
    "accuracy = evaluate_accuracy(model, val_loader, device)\n"
   ]
  },
  {
   "cell_type": "code",
   "execution_count": null,
   "metadata": {},
   "outputs": [],
   "source": []
  }
 ],
 "metadata": {
  "kernelspec": {
   "display_name": "Python 3 (ipykernel)",
   "language": "python",
   "name": "python3"
  },
  "language_info": {
   "codemirror_mode": {
    "name": "ipython",
    "version": 3
   },
   "file_extension": ".py",
   "mimetype": "text/x-python",
   "name": "python",
   "nbconvert_exporter": "python",
   "pygments_lexer": "ipython3",
   "version": "3.11.10"
  }
 },
 "nbformat": 4,
 "nbformat_minor": 4
}
